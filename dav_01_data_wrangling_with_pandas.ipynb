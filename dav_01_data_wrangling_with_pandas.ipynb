{
 "cells": [
  {
   "cell_type": "markdown",
   "metadata": {
    "colab_type": "text",
    "collapsed": true,
    "id": "1ugIM81J9QXR"
   },
   "source": [
    "# <font color='maroon'>Data wrangling with Pandas</font>"
   ]
  },
  {
   "cell_type": "markdown",
   "metadata": {
    "colab_type": "text",
    "id": "ATJM7nv99QXa"
   },
   "source": [
    "In this lesson we learn how to load data into a tabular data structure called a dataframe. The dataframe is provided by the Pandas library. Pandas is built on top of the Numpy library. In this notebook we'll study the attributes of a dataframe and the functions you can perform on a dataframe. Run the cells as you go along to see the output of the code given. Read through the code to check if you understand what it's doing."
   ]
  },
  {
   "cell_type": "markdown",
   "metadata": {
    "colab_type": "text",
    "id": "9Dt5bCIE9QXi"
   },
   "source": [
    "## What is a Pandas dataframe?"
   ]
  },
  {
   "cell_type": "markdown",
   "metadata": {
    "colab_type": "text",
    "id": "LMbUJC_a9QXn"
   },
   "source": [
    "In order to manipulate data via Python, we need to store it somewhere. Python provides the Pandas library, which provides dataframes to store data that comes from different file types. A dataframe lets us store information in tabular form (as you might do in Excel) and perform more complicated operations on this information. For example, it’s possible to select a subset of the data based on the values in a particular column, add new columns, combine two dataframes into one larger dataframe and so on. Columns can be given names, and rows can be given an explicit index, to allow us to access a particular piece of information.\n",
    "\n",
    "Pandas includes other data structures as well, which we may go into later. A more detailed explanation of Pandas is available here: pandas: [powerful Python data analysis toolkit](https://pandas.pydata.org/pandas-docs/stable/). For now, let’s look at how we can get data into a dataframe and start working with it.\n"
   ]
  },
  {
   "cell_type": "markdown",
   "metadata": {
    "colab_type": "text",
    "id": "Vv2t3aY89QXu"
   },
   "source": [
    "## Loading a file into a Pandas dataframe"
   ]
  },
  {
   "cell_type": "markdown",
   "metadata": {
    "colab_type": "text",
    "id": "YFXFXcBv9QX1"
   },
   "source": [
    "Before even loading data into your workspace, it is important to have the right tools to allow you to load and manipulate the data. In the LMS, you had a glance at Numpy, Pandas and Matplotlib among others. These are modules or collections of code organized into an easy-to-maintain format for specific purposes you looked at. An entire module can be imported or only parts of it.\n",
    "\n",
    "To import the entire module, the code below can be used. Notice both have a standard alias widely used by Python users. To read more on this, there is additional reading provided in the LMS referring to Importing Modules."
   ]
  },
  {
   "cell_type": "code",
   "execution_count": 108,
   "metadata": {
    "colab": {},
    "colab_type": "code",
    "id": "jNanprqg9QX7"
   },
   "outputs": [],
   "source": [
    "import numpy as np #imports Numpy using a standard alias, np\n",
    "import pandas as pd #imports Pandas using a standard alias, pd\n",
    "import random\n",
    "import os"
   ]
  },
  {
   "cell_type": "markdown",
   "metadata": {
    "colab_type": "text",
    "id": "oDgtHRSB9QYN"
   },
   "source": [
    "Include matplotlib inline. This allows the output of cells with plotting commands to appear directly below their input cells and be stored with/embedded in the notebook."
   ]
  },
  {
   "cell_type": "code",
   "execution_count": 109,
   "metadata": {
    "colab": {},
    "colab_type": "code",
    "id": "w-Sta3nv9QYq"
   },
   "outputs": [],
   "source": [
    "%matplotlib inline  "
   ]
  },
  {
   "cell_type": "markdown",
   "metadata": {
    "colab_type": "text",
    "id": "0yeIi1V59QY2"
   },
   "source": [
    "### The dataset"
   ]
  },
  {
   "cell_type": "markdown",
   "metadata": {
    "colab_type": "text",
    "id": "oJIb5iBs9QY7"
   },
   "source": [
    "We use data from the [UCI Machine Learning repository](http://archive.ics.uci.edu/ml/datasets/Airfoil+Self-Noise#). This is NASA data on different-sized NACA 0012 airfoils tested at various wind tunnel speeds and angles of attack. The span of the airfoil and the observer position were the same in all of the experiments. According to the UCI Machine Learning site, the problem has the following inputs:\n",
    "1. Frequency, in Hertzs.\n",
    "2. Angle of attack, in degrees.\n",
    "3. Chord length, in meters.\n",
    "4. Free-stream velocity, in meters per second.\n",
    "5. Suction side displacement thickness, in meters.\n",
    "\n",
    "The only output is:\n",
    "6. Scaled sound pressure level, in decibels. \n",
    "\n",
    "\n",
    "First open the file and investigate the headings in the column and the separator used to separate columns. We observe the columns have no headings, so when we use Pandas to load the file into a dataframe, we provide the names of the columns using the information given above."
   ]
  },
  {
   "cell_type": "code",
   "execution_count": 64,
   "metadata": {
    "scrolled": false
   },
   "outputs": [],
   "source": [
    "data = pd.read_csv('airfoil_self_noise.dat', #name of file\n",
    "                   sep='\\t',  # how columns are separated\n",
    "                   names = ['Freq(Hz)', 'Angle(deg)', 'Chord_length(m)', 'Velocity(ms)', 'Thickness(m)', 'Pressure(dec)'])"
   ]
  },
  {
   "cell_type": "markdown",
   "metadata": {
    "colab_type": "text",
    "id": "Wua7Aabw9QZM"
   },
   "source": [
    "See the column headings."
   ]
  },
  {
   "cell_type": "code",
   "execution_count": 65,
   "metadata": {
    "colab": {},
    "colab_type": "code",
    "id": "UU5t8VE29QZQ"
   },
   "outputs": [
    {
     "data": {
      "text/plain": [
       "Index(['Freq(Hz)', 'Angle(deg)', 'Chord_length(m)', 'Velocity(ms)',\n",
       "       'Thickness(m)', 'Pressure(dec)'],\n",
       "      dtype='object')"
      ]
     },
     "execution_count": 65,
     "metadata": {},
     "output_type": "execute_result"
    }
   ],
   "source": [
    "data.columns"
   ]
  },
  {
   "cell_type": "markdown",
   "metadata": {
    "colab_type": "text",
    "id": "8dhPA7Oh9QZb"
   },
   "source": [
    "Pandas allows you to load a comma separated file as a dataframe. "
   ]
  },
  {
   "cell_type": "code",
   "execution_count": 66,
   "metadata": {
    "colab": {},
    "colab_type": "code",
    "id": "Idr8jAj79QZi"
   },
   "outputs": [
    {
     "data": {
      "text/plain": [
       "pandas.core.frame.DataFrame"
      ]
     },
     "execution_count": 66,
     "metadata": {},
     "output_type": "execute_result"
    }
   ],
   "source": [
    "type(data) # make sure you've created a Dataframe"
   ]
  },
  {
   "cell_type": "markdown",
   "metadata": {
    "colab_type": "text",
    "id": "oge06r1d9QZz"
   },
   "source": [
    "Use the `info()` function to get information about the data types."
   ]
  },
  {
   "cell_type": "code",
   "execution_count": 67,
   "metadata": {
    "colab": {},
    "colab_type": "code",
    "id": "UFLZgaJX9QZ5"
   },
   "outputs": [
    {
     "name": "stdout",
     "output_type": "stream",
     "text": [
      "<class 'pandas.core.frame.DataFrame'>\n",
      "RangeIndex: 1503 entries, 0 to 1502\n",
      "Data columns (total 6 columns):\n",
      "Freq(Hz)           1503 non-null int64\n",
      "Angle(deg)         1503 non-null float64\n",
      "Chord_length(m)    1503 non-null float64\n",
      "Velocity(ms)       1503 non-null float64\n",
      "Thickness(m)       1503 non-null float64\n",
      "Pressure(dec)      1503 non-null float64\n",
      "dtypes: float64(5), int64(1)\n",
      "memory usage: 70.6 KB\n"
     ]
    }
   ],
   "source": [
    "data.info()"
   ]
  },
  {
   "cell_type": "markdown",
   "metadata": {
    "colab_type": "text",
    "id": "U5-5mXky9QaH"
   },
   "source": [
    "Note: there is a function `astype()` to change data types to other types. Let's change one of the int types to a float. "
   ]
  },
  {
   "cell_type": "code",
   "execution_count": 68,
   "metadata": {
    "colab": {},
    "colab_type": "code",
    "id": "bOftpVvE9QaK"
   },
   "outputs": [
    {
     "data": {
      "text/plain": [
       "0        800.0\n",
       "1       1000.0\n",
       "2       1250.0\n",
       "3       1600.0\n",
       "4       2000.0\n",
       "         ...  \n",
       "1498    2500.0\n",
       "1499    3150.0\n",
       "1500    4000.0\n",
       "1501    5000.0\n",
       "1502    6300.0\n",
       "Name: Freq(Hz), Length: 1503, dtype: float64"
      ]
     },
     "execution_count": 68,
     "metadata": {},
     "output_type": "execute_result"
    }
   ],
   "source": [
    "data['Freq(Hz)'].astype('float')"
   ]
  },
  {
   "cell_type": "markdown",
   "metadata": {
    "colab_type": "text",
    "id": "LkZ890tt9QaV"
   },
   "source": [
    "### Indexing a dataframe"
   ]
  },
  {
   "cell_type": "markdown",
   "metadata": {
    "colab_type": "text",
    "id": "U-3VSB6o9QaZ"
   },
   "source": [
    "We may want to set a column index to make access to data points easier."
   ]
  },
  {
   "cell_type": "code",
   "execution_count": 69,
   "metadata": {
    "colab": {},
    "colab_type": "code",
    "id": "258X63D59Qad"
   },
   "outputs": [
    {
     "data": {
      "text/plain": [
       "RangeIndex(start=0, stop=1503, step=1)"
      ]
     },
     "execution_count": 69,
     "metadata": {},
     "output_type": "execute_result"
    }
   ],
   "source": [
    "data.index"
   ]
  },
  {
   "cell_type": "markdown",
   "metadata": {
    "colab_type": "text",
    "id": "il_5T0vV9Qao"
   },
   "source": [
    "Suppose we set the Freq(Hz) column as the index."
   ]
  },
  {
   "cell_type": "code",
   "execution_count": 70,
   "metadata": {
    "colab": {},
    "colab_type": "code",
    "id": "ZuGx014G9Qas"
   },
   "outputs": [],
   "source": [
    "data.set_index('Freq(Hz)', inplace=True)"
   ]
  },
  {
   "cell_type": "markdown",
   "metadata": {
    "colab_type": "text",
    "id": "aiXqtfHb9Qa4"
   },
   "source": [
    "What happens when you check the data index again?"
   ]
  },
  {
   "cell_type": "code",
   "execution_count": 71,
   "metadata": {
    "colab": {},
    "colab_type": "code",
    "id": "ECsrdv459Qa8"
   },
   "outputs": [
    {
     "data": {
      "text/plain": [
       "Int64Index([ 800, 1000, 1250, 1600, 2000, 2500, 3150, 4000, 5000, 6300,\n",
       "            ...\n",
       "             800, 1000, 1250, 1600, 2000, 2500, 3150, 4000, 5000, 6300],\n",
       "           dtype='int64', name='Freq(Hz)', length=1503)"
      ]
     },
     "execution_count": 71,
     "metadata": {},
     "output_type": "execute_result"
    }
   ],
   "source": [
    "data.index #write your code here to check data index\n"
   ]
  },
  {
   "cell_type": "code",
   "execution_count": 72,
   "metadata": {
    "colab": {},
    "colab_type": "code",
    "id": "Z5AIff5B9QbI"
   },
   "outputs": [
    {
     "data": {
      "text/plain": [
       "Angle(deg)           0.000000\n",
       "Chord_length(m)      0.304800\n",
       "Velocity(ms)        71.300000\n",
       "Thickness(m)         0.002663\n",
       "Pressure(dec)      127.461000\n",
       "Name: 2000, dtype: float64"
      ]
     },
     "execution_count": 72,
     "metadata": {},
     "output_type": "execute_result"
    }
   ],
   "source": [
    "data.iloc[4,:] #you can also check you data after setting index using the command below"
   ]
  },
  {
   "cell_type": "markdown",
   "metadata": {
    "colab_type": "text",
    "id": "811nkT6T9Qbh"
   },
   "source": [
    "### Descriptive information"
   ]
  },
  {
   "cell_type": "markdown",
   "metadata": {
    "colab_type": "text",
    "id": "xxnfX5mq9Qbo"
   },
   "source": [
    "Let's find out more about the data."
   ]
  },
  {
   "cell_type": "markdown",
   "metadata": {
    "colab_type": "text",
    "id": "qXWr-gQu9Qb4"
   },
   "source": [
    "The size of the dataset, or the number of rows and columns in the dataframe, is given by:"
   ]
  },
  {
   "cell_type": "code",
   "execution_count": 73,
   "metadata": {
    "colab": {},
    "colab_type": "code",
    "id": "ZOTE64Lh9QcA"
   },
   "outputs": [
    {
     "data": {
      "text/plain": [
       "(1503, 5)"
      ]
     },
     "execution_count": 73,
     "metadata": {},
     "output_type": "execute_result"
    }
   ],
   "source": [
    "data.shape"
   ]
  },
  {
   "cell_type": "markdown",
   "metadata": {
    "colab_type": "text",
    "id": "xWNLicCZ9Qcj"
   },
   "source": [
    "Find out more about the dataset attributes -- the types of the information in the dataset."
   ]
  },
  {
   "cell_type": "code",
   "execution_count": 74,
   "metadata": {
    "colab": {},
    "colab_type": "code",
    "id": "99N-ql0f9Qcx"
   },
   "outputs": [
    {
     "name": "stdout",
     "output_type": "stream",
     "text": [
      "<class 'pandas.core.frame.DataFrame'>\n",
      "Int64Index: 1503 entries, 800 to 6300\n",
      "Data columns (total 5 columns):\n",
      "Angle(deg)         1503 non-null float64\n",
      "Chord_length(m)    1503 non-null float64\n",
      "Velocity(ms)       1503 non-null float64\n",
      "Thickness(m)       1503 non-null float64\n",
      "Pressure(dec)      1503 non-null float64\n",
      "dtypes: float64(5)\n",
      "memory usage: 110.5 KB\n"
     ]
    }
   ],
   "source": [
    "data.info()"
   ]
  },
  {
   "cell_type": "markdown",
   "metadata": {
    "colab_type": "text",
    "id": "utjkpwSc9QdK"
   },
   "source": [
    "See the names of all the columns in the data."
   ]
  },
  {
   "cell_type": "code",
   "execution_count": 75,
   "metadata": {
    "colab": {},
    "colab_type": "code",
    "id": "pFc5w7BK9QdS"
   },
   "outputs": [
    {
     "data": {
      "text/plain": [
       "Index(['Angle(deg)', 'Chord_length(m)', 'Velocity(ms)', 'Thickness(m)',\n",
       "       'Pressure(dec)'],\n",
       "      dtype='object')"
      ]
     },
     "execution_count": 75,
     "metadata": {},
     "output_type": "execute_result"
    }
   ],
   "source": [
    "data.columns"
   ]
  },
  {
   "cell_type": "markdown",
   "metadata": {
    "colab_type": "text",
    "id": "Mrei105N9Qdj"
   },
   "source": [
    "To get a small view of the data, type"
   ]
  },
  {
   "cell_type": "code",
   "execution_count": 76,
   "metadata": {
    "colab": {},
    "colab_type": "code",
    "id": "_CabLiMd9Qdq"
   },
   "outputs": [
    {
     "data": {
      "text/html": [
       "<div>\n",
       "<style scoped>\n",
       "    .dataframe tbody tr th:only-of-type {\n",
       "        vertical-align: middle;\n",
       "    }\n",
       "\n",
       "    .dataframe tbody tr th {\n",
       "        vertical-align: top;\n",
       "    }\n",
       "\n",
       "    .dataframe thead th {\n",
       "        text-align: right;\n",
       "    }\n",
       "</style>\n",
       "<table border=\"1\" class=\"dataframe\">\n",
       "  <thead>\n",
       "    <tr style=\"text-align: right;\">\n",
       "      <th></th>\n",
       "      <th>Angle(deg)</th>\n",
       "      <th>Chord_length(m)</th>\n",
       "      <th>Velocity(ms)</th>\n",
       "      <th>Thickness(m)</th>\n",
       "      <th>Pressure(dec)</th>\n",
       "    </tr>\n",
       "    <tr>\n",
       "      <th>Freq(Hz)</th>\n",
       "      <th></th>\n",
       "      <th></th>\n",
       "      <th></th>\n",
       "      <th></th>\n",
       "      <th></th>\n",
       "    </tr>\n",
       "  </thead>\n",
       "  <tbody>\n",
       "    <tr>\n",
       "      <td>800</td>\n",
       "      <td>0.0</td>\n",
       "      <td>0.3048</td>\n",
       "      <td>71.3</td>\n",
       "      <td>0.002663</td>\n",
       "      <td>126.201</td>\n",
       "    </tr>\n",
       "    <tr>\n",
       "      <td>1000</td>\n",
       "      <td>0.0</td>\n",
       "      <td>0.3048</td>\n",
       "      <td>71.3</td>\n",
       "      <td>0.002663</td>\n",
       "      <td>125.201</td>\n",
       "    </tr>\n",
       "    <tr>\n",
       "      <td>1250</td>\n",
       "      <td>0.0</td>\n",
       "      <td>0.3048</td>\n",
       "      <td>71.3</td>\n",
       "      <td>0.002663</td>\n",
       "      <td>125.951</td>\n",
       "    </tr>\n",
       "    <tr>\n",
       "      <td>1600</td>\n",
       "      <td>0.0</td>\n",
       "      <td>0.3048</td>\n",
       "      <td>71.3</td>\n",
       "      <td>0.002663</td>\n",
       "      <td>127.591</td>\n",
       "    </tr>\n",
       "    <tr>\n",
       "      <td>2000</td>\n",
       "      <td>0.0</td>\n",
       "      <td>0.3048</td>\n",
       "      <td>71.3</td>\n",
       "      <td>0.002663</td>\n",
       "      <td>127.461</td>\n",
       "    </tr>\n",
       "  </tbody>\n",
       "</table>\n",
       "</div>"
      ],
      "text/plain": [
       "          Angle(deg)  Chord_length(m)  Velocity(ms)  Thickness(m)  \\\n",
       "Freq(Hz)                                                            \n",
       "800              0.0           0.3048          71.3      0.002663   \n",
       "1000             0.0           0.3048          71.3      0.002663   \n",
       "1250             0.0           0.3048          71.3      0.002663   \n",
       "1600             0.0           0.3048          71.3      0.002663   \n",
       "2000             0.0           0.3048          71.3      0.002663   \n",
       "\n",
       "          Pressure(dec)  \n",
       "Freq(Hz)                 \n",
       "800             126.201  \n",
       "1000            125.201  \n",
       "1250            125.951  \n",
       "1600            127.591  \n",
       "2000            127.461  "
      ]
     },
     "execution_count": 76,
     "metadata": {},
     "output_type": "execute_result"
    }
   ],
   "source": [
    "data.head()"
   ]
  },
  {
   "cell_type": "code",
   "execution_count": 77,
   "metadata": {
    "colab": {},
    "colab_type": "code",
    "id": "hLnplwvi9Qd-"
   },
   "outputs": [
    {
     "data": {
      "text/html": [
       "<div>\n",
       "<style scoped>\n",
       "    .dataframe tbody tr th:only-of-type {\n",
       "        vertical-align: middle;\n",
       "    }\n",
       "\n",
       "    .dataframe tbody tr th {\n",
       "        vertical-align: top;\n",
       "    }\n",
       "\n",
       "    .dataframe thead th {\n",
       "        text-align: right;\n",
       "    }\n",
       "</style>\n",
       "<table border=\"1\" class=\"dataframe\">\n",
       "  <thead>\n",
       "    <tr style=\"text-align: right;\">\n",
       "      <th></th>\n",
       "      <th>Angle(deg)</th>\n",
       "      <th>Chord_length(m)</th>\n",
       "      <th>Velocity(ms)</th>\n",
       "      <th>Thickness(m)</th>\n",
       "      <th>Pressure(dec)</th>\n",
       "    </tr>\n",
       "    <tr>\n",
       "      <th>Freq(Hz)</th>\n",
       "      <th></th>\n",
       "      <th></th>\n",
       "      <th></th>\n",
       "      <th></th>\n",
       "      <th></th>\n",
       "    </tr>\n",
       "  </thead>\n",
       "  <tbody>\n",
       "    <tr>\n",
       "      <td>2500</td>\n",
       "      <td>15.6</td>\n",
       "      <td>0.1016</td>\n",
       "      <td>39.6</td>\n",
       "      <td>0.052849</td>\n",
       "      <td>110.264</td>\n",
       "    </tr>\n",
       "    <tr>\n",
       "      <td>3150</td>\n",
       "      <td>15.6</td>\n",
       "      <td>0.1016</td>\n",
       "      <td>39.6</td>\n",
       "      <td>0.052849</td>\n",
       "      <td>109.254</td>\n",
       "    </tr>\n",
       "    <tr>\n",
       "      <td>4000</td>\n",
       "      <td>15.6</td>\n",
       "      <td>0.1016</td>\n",
       "      <td>39.6</td>\n",
       "      <td>0.052849</td>\n",
       "      <td>106.604</td>\n",
       "    </tr>\n",
       "    <tr>\n",
       "      <td>5000</td>\n",
       "      <td>15.6</td>\n",
       "      <td>0.1016</td>\n",
       "      <td>39.6</td>\n",
       "      <td>0.052849</td>\n",
       "      <td>106.224</td>\n",
       "    </tr>\n",
       "    <tr>\n",
       "      <td>6300</td>\n",
       "      <td>15.6</td>\n",
       "      <td>0.1016</td>\n",
       "      <td>39.6</td>\n",
       "      <td>0.052849</td>\n",
       "      <td>104.204</td>\n",
       "    </tr>\n",
       "  </tbody>\n",
       "</table>\n",
       "</div>"
      ],
      "text/plain": [
       "          Angle(deg)  Chord_length(m)  Velocity(ms)  Thickness(m)  \\\n",
       "Freq(Hz)                                                            \n",
       "2500            15.6           0.1016          39.6      0.052849   \n",
       "3150            15.6           0.1016          39.6      0.052849   \n",
       "4000            15.6           0.1016          39.6      0.052849   \n",
       "5000            15.6           0.1016          39.6      0.052849   \n",
       "6300            15.6           0.1016          39.6      0.052849   \n",
       "\n",
       "          Pressure(dec)  \n",
       "Freq(Hz)                 \n",
       "2500            110.264  \n",
       "3150            109.254  \n",
       "4000            106.604  \n",
       "5000            106.224  \n",
       "6300            104.204  "
      ]
     },
     "execution_count": 77,
     "metadata": {},
     "output_type": "execute_result"
    }
   ],
   "source": [
    "data.tail()"
   ]
  },
  {
   "cell_type": "markdown",
   "metadata": {
    "colab_type": "text",
    "id": "0lWjCsWF9QeQ"
   },
   "source": [
    "You can view the data in different ways."
   ]
  },
  {
   "cell_type": "code",
   "execution_count": 78,
   "metadata": {
    "colab": {},
    "colab_type": "code",
    "id": "tjE9nujp9QeX"
   },
   "outputs": [
    {
     "data": {
      "text/html": [
       "<div>\n",
       "<style scoped>\n",
       "    .dataframe tbody tr th:only-of-type {\n",
       "        vertical-align: middle;\n",
       "    }\n",
       "\n",
       "    .dataframe tbody tr th {\n",
       "        vertical-align: top;\n",
       "    }\n",
       "\n",
       "    .dataframe thead th {\n",
       "        text-align: right;\n",
       "    }\n",
       "</style>\n",
       "<table border=\"1\" class=\"dataframe\">\n",
       "  <thead>\n",
       "    <tr style=\"text-align: right;\">\n",
       "      <th>Freq(Hz)</th>\n",
       "      <th>800</th>\n",
       "      <th>1000</th>\n",
       "      <th>1250</th>\n",
       "      <th>1600</th>\n",
       "      <th>2000</th>\n",
       "      <th>2500</th>\n",
       "      <th>3150</th>\n",
       "      <th>4000</th>\n",
       "      <th>5000</th>\n",
       "      <th>6300</th>\n",
       "      <th>...</th>\n",
       "      <th>800</th>\n",
       "      <th>1000</th>\n",
       "      <th>1250</th>\n",
       "      <th>1600</th>\n",
       "      <th>2000</th>\n",
       "      <th>2500</th>\n",
       "      <th>3150</th>\n",
       "      <th>4000</th>\n",
       "      <th>5000</th>\n",
       "      <th>6300</th>\n",
       "    </tr>\n",
       "  </thead>\n",
       "  <tbody>\n",
       "    <tr>\n",
       "      <td>Angle(deg)</td>\n",
       "      <td>0.000000</td>\n",
       "      <td>0.000000</td>\n",
       "      <td>0.000000</td>\n",
       "      <td>0.000000</td>\n",
       "      <td>0.000000</td>\n",
       "      <td>0.000000</td>\n",
       "      <td>0.000000</td>\n",
       "      <td>0.000000</td>\n",
       "      <td>0.000000</td>\n",
       "      <td>0.000000</td>\n",
       "      <td>...</td>\n",
       "      <td>15.600000</td>\n",
       "      <td>15.600000</td>\n",
       "      <td>15.600000</td>\n",
       "      <td>15.600000</td>\n",
       "      <td>15.600000</td>\n",
       "      <td>15.600000</td>\n",
       "      <td>15.600000</td>\n",
       "      <td>15.600000</td>\n",
       "      <td>15.600000</td>\n",
       "      <td>15.600000</td>\n",
       "    </tr>\n",
       "    <tr>\n",
       "      <td>Chord_length(m)</td>\n",
       "      <td>0.304800</td>\n",
       "      <td>0.304800</td>\n",
       "      <td>0.304800</td>\n",
       "      <td>0.304800</td>\n",
       "      <td>0.304800</td>\n",
       "      <td>0.304800</td>\n",
       "      <td>0.304800</td>\n",
       "      <td>0.304800</td>\n",
       "      <td>0.304800</td>\n",
       "      <td>0.304800</td>\n",
       "      <td>...</td>\n",
       "      <td>0.101600</td>\n",
       "      <td>0.101600</td>\n",
       "      <td>0.101600</td>\n",
       "      <td>0.101600</td>\n",
       "      <td>0.101600</td>\n",
       "      <td>0.101600</td>\n",
       "      <td>0.101600</td>\n",
       "      <td>0.101600</td>\n",
       "      <td>0.101600</td>\n",
       "      <td>0.101600</td>\n",
       "    </tr>\n",
       "    <tr>\n",
       "      <td>Velocity(ms)</td>\n",
       "      <td>71.300000</td>\n",
       "      <td>71.300000</td>\n",
       "      <td>71.300000</td>\n",
       "      <td>71.300000</td>\n",
       "      <td>71.300000</td>\n",
       "      <td>71.300000</td>\n",
       "      <td>71.300000</td>\n",
       "      <td>71.300000</td>\n",
       "      <td>71.300000</td>\n",
       "      <td>71.300000</td>\n",
       "      <td>...</td>\n",
       "      <td>39.600000</td>\n",
       "      <td>39.600000</td>\n",
       "      <td>39.600000</td>\n",
       "      <td>39.600000</td>\n",
       "      <td>39.600000</td>\n",
       "      <td>39.600000</td>\n",
       "      <td>39.600000</td>\n",
       "      <td>39.600000</td>\n",
       "      <td>39.600000</td>\n",
       "      <td>39.600000</td>\n",
       "    </tr>\n",
       "    <tr>\n",
       "      <td>Thickness(m)</td>\n",
       "      <td>0.002663</td>\n",
       "      <td>0.002663</td>\n",
       "      <td>0.002663</td>\n",
       "      <td>0.002663</td>\n",
       "      <td>0.002663</td>\n",
       "      <td>0.002663</td>\n",
       "      <td>0.002663</td>\n",
       "      <td>0.002663</td>\n",
       "      <td>0.002663</td>\n",
       "      <td>0.002663</td>\n",
       "      <td>...</td>\n",
       "      <td>0.052849</td>\n",
       "      <td>0.052849</td>\n",
       "      <td>0.052849</td>\n",
       "      <td>0.052849</td>\n",
       "      <td>0.052849</td>\n",
       "      <td>0.052849</td>\n",
       "      <td>0.052849</td>\n",
       "      <td>0.052849</td>\n",
       "      <td>0.052849</td>\n",
       "      <td>0.052849</td>\n",
       "    </tr>\n",
       "    <tr>\n",
       "      <td>Pressure(dec)</td>\n",
       "      <td>126.201000</td>\n",
       "      <td>125.201000</td>\n",
       "      <td>125.951000</td>\n",
       "      <td>127.591000</td>\n",
       "      <td>127.461000</td>\n",
       "      <td>125.571000</td>\n",
       "      <td>125.201000</td>\n",
       "      <td>123.061000</td>\n",
       "      <td>121.301000</td>\n",
       "      <td>119.541000</td>\n",
       "      <td>...</td>\n",
       "      <td>118.964000</td>\n",
       "      <td>119.224000</td>\n",
       "      <td>118.214000</td>\n",
       "      <td>114.554000</td>\n",
       "      <td>110.894000</td>\n",
       "      <td>110.264000</td>\n",
       "      <td>109.254000</td>\n",
       "      <td>106.604000</td>\n",
       "      <td>106.224000</td>\n",
       "      <td>104.204000</td>\n",
       "    </tr>\n",
       "  </tbody>\n",
       "</table>\n",
       "<p>5 rows × 1503 columns</p>\n",
       "</div>"
      ],
      "text/plain": [
       "Freq(Hz)               800         1000        1250        1600        2000  \\\n",
       "Angle(deg)         0.000000    0.000000    0.000000    0.000000    0.000000   \n",
       "Chord_length(m)    0.304800    0.304800    0.304800    0.304800    0.304800   \n",
       "Velocity(ms)      71.300000   71.300000   71.300000   71.300000   71.300000   \n",
       "Thickness(m)       0.002663    0.002663    0.002663    0.002663    0.002663   \n",
       "Pressure(dec)    126.201000  125.201000  125.951000  127.591000  127.461000   \n",
       "\n",
       "Freq(Hz)               2500        3150        4000        5000        6300  \\\n",
       "Angle(deg)         0.000000    0.000000    0.000000    0.000000    0.000000   \n",
       "Chord_length(m)    0.304800    0.304800    0.304800    0.304800    0.304800   \n",
       "Velocity(ms)      71.300000   71.300000   71.300000   71.300000   71.300000   \n",
       "Thickness(m)       0.002663    0.002663    0.002663    0.002663    0.002663   \n",
       "Pressure(dec)    125.571000  125.201000  123.061000  121.301000  119.541000   \n",
       "\n",
       "Freq(Hz)         ...        800         1000        1250        1600  \\\n",
       "Angle(deg)       ...   15.600000   15.600000   15.600000   15.600000   \n",
       "Chord_length(m)  ...    0.101600    0.101600    0.101600    0.101600   \n",
       "Velocity(ms)     ...   39.600000   39.600000   39.600000   39.600000   \n",
       "Thickness(m)     ...    0.052849    0.052849    0.052849    0.052849   \n",
       "Pressure(dec)    ...  118.964000  119.224000  118.214000  114.554000   \n",
       "\n",
       "Freq(Hz)               2000        2500        3150        4000        5000  \\\n",
       "Angle(deg)        15.600000   15.600000   15.600000   15.600000   15.600000   \n",
       "Chord_length(m)    0.101600    0.101600    0.101600    0.101600    0.101600   \n",
       "Velocity(ms)      39.600000   39.600000   39.600000   39.600000   39.600000   \n",
       "Thickness(m)       0.052849    0.052849    0.052849    0.052849    0.052849   \n",
       "Pressure(dec)    110.894000  110.264000  109.254000  106.604000  106.224000   \n",
       "\n",
       "Freq(Hz)               6300  \n",
       "Angle(deg)        15.600000  \n",
       "Chord_length(m)    0.101600  \n",
       "Velocity(ms)      39.600000  \n",
       "Thickness(m)       0.052849  \n",
       "Pressure(dec)    104.204000  \n",
       "\n",
       "[5 rows x 1503 columns]"
      ]
     },
     "execution_count": 78,
     "metadata": {},
     "output_type": "execute_result"
    }
   ],
   "source": [
    "data.transpose()#You can view the data in different ways."
   ]
  },
  {
   "cell_type": "markdown",
   "metadata": {
    "colab_type": "text",
    "id": "ULN_EvCo9Qet"
   },
   "source": [
    "You can also produce summary statistics of the data as follows:"
   ]
  },
  {
   "cell_type": "code",
   "execution_count": 79,
   "metadata": {
    "colab": {},
    "colab_type": "code",
    "id": "gH7fL0-w9Qex"
   },
   "outputs": [
    {
     "data": {
      "text/html": [
       "<div>\n",
       "<style scoped>\n",
       "    .dataframe tbody tr th:only-of-type {\n",
       "        vertical-align: middle;\n",
       "    }\n",
       "\n",
       "    .dataframe tbody tr th {\n",
       "        vertical-align: top;\n",
       "    }\n",
       "\n",
       "    .dataframe thead th {\n",
       "        text-align: right;\n",
       "    }\n",
       "</style>\n",
       "<table border=\"1\" class=\"dataframe\">\n",
       "  <thead>\n",
       "    <tr style=\"text-align: right;\">\n",
       "      <th></th>\n",
       "      <th>Angle(deg)</th>\n",
       "      <th>Chord_length(m)</th>\n",
       "      <th>Velocity(ms)</th>\n",
       "      <th>Thickness(m)</th>\n",
       "      <th>Pressure(dec)</th>\n",
       "    </tr>\n",
       "  </thead>\n",
       "  <tbody>\n",
       "    <tr>\n",
       "      <td>count</td>\n",
       "      <td>1503.000000</td>\n",
       "      <td>1503.000000</td>\n",
       "      <td>1503.000000</td>\n",
       "      <td>1503.000000</td>\n",
       "      <td>1503.000000</td>\n",
       "    </tr>\n",
       "    <tr>\n",
       "      <td>mean</td>\n",
       "      <td>6.782302</td>\n",
       "      <td>0.136548</td>\n",
       "      <td>50.860745</td>\n",
       "      <td>0.011140</td>\n",
       "      <td>124.835943</td>\n",
       "    </tr>\n",
       "    <tr>\n",
       "      <td>std</td>\n",
       "      <td>5.918128</td>\n",
       "      <td>0.093541</td>\n",
       "      <td>15.572784</td>\n",
       "      <td>0.013150</td>\n",
       "      <td>6.898657</td>\n",
       "    </tr>\n",
       "    <tr>\n",
       "      <td>min</td>\n",
       "      <td>0.000000</td>\n",
       "      <td>0.025400</td>\n",
       "      <td>31.700000</td>\n",
       "      <td>0.000401</td>\n",
       "      <td>103.380000</td>\n",
       "    </tr>\n",
       "    <tr>\n",
       "      <td>25%</td>\n",
       "      <td>2.000000</td>\n",
       "      <td>0.050800</td>\n",
       "      <td>39.600000</td>\n",
       "      <td>0.002535</td>\n",
       "      <td>120.191000</td>\n",
       "    </tr>\n",
       "    <tr>\n",
       "      <td>50%</td>\n",
       "      <td>5.400000</td>\n",
       "      <td>0.101600</td>\n",
       "      <td>39.600000</td>\n",
       "      <td>0.004957</td>\n",
       "      <td>125.721000</td>\n",
       "    </tr>\n",
       "    <tr>\n",
       "      <td>75%</td>\n",
       "      <td>9.900000</td>\n",
       "      <td>0.228600</td>\n",
       "      <td>71.300000</td>\n",
       "      <td>0.015576</td>\n",
       "      <td>129.995500</td>\n",
       "    </tr>\n",
       "    <tr>\n",
       "      <td>max</td>\n",
       "      <td>22.200000</td>\n",
       "      <td>0.304800</td>\n",
       "      <td>71.300000</td>\n",
       "      <td>0.058411</td>\n",
       "      <td>140.987000</td>\n",
       "    </tr>\n",
       "  </tbody>\n",
       "</table>\n",
       "</div>"
      ],
      "text/plain": [
       "        Angle(deg)  Chord_length(m)  Velocity(ms)  Thickness(m)  Pressure(dec)\n",
       "count  1503.000000      1503.000000   1503.000000   1503.000000    1503.000000\n",
       "mean      6.782302         0.136548     50.860745      0.011140     124.835943\n",
       "std       5.918128         0.093541     15.572784      0.013150       6.898657\n",
       "min       0.000000         0.025400     31.700000      0.000401     103.380000\n",
       "25%       2.000000         0.050800     39.600000      0.002535     120.191000\n",
       "50%       5.400000         0.101600     39.600000      0.004957     125.721000\n",
       "75%       9.900000         0.228600     71.300000      0.015576     129.995500\n",
       "max      22.200000         0.304800     71.300000      0.058411     140.987000"
      ]
     },
     "execution_count": 79,
     "metadata": {},
     "output_type": "execute_result"
    }
   ],
   "source": [
    "data.describe() #You can also produce summary statistics of the data as follows:"
   ]
  },
  {
   "cell_type": "markdown",
   "metadata": {
    "colab_type": "text",
    "id": "nWcEAEQd9QfB"
   },
   "source": [
    "## Creating dataframes"
   ]
  },
  {
   "cell_type": "markdown",
   "metadata": {
    "colab_type": "text",
    "id": "9zyPBt_S9QfF"
   },
   "source": [
    "### Selecting a column of the data"
   ]
  },
  {
   "cell_type": "markdown",
   "metadata": {
    "colab_type": "text",
    "id": "JA_JfhVL9QfK"
   },
   "source": [
    "You can select a single column from the dataframe by name. When we select the `Pressure(dec)`, the function returns the index column along with the `Pressure` column. "
   ]
  },
  {
   "cell_type": "code",
   "execution_count": 80,
   "metadata": {
    "colab": {},
    "colab_type": "code",
    "id": "MTh26Rrk9QfR"
   },
   "outputs": [
    {
     "data": {
      "text/plain": [
       "Freq(Hz)\n",
       "800     126.201\n",
       "1000    125.201\n",
       "1250    125.951\n",
       "1600    127.591\n",
       "2000    127.461\n",
       "         ...   \n",
       "2500    110.264\n",
       "3150    109.254\n",
       "4000    106.604\n",
       "5000    106.224\n",
       "6300    104.204\n",
       "Name: Pressure(dec), Length: 1503, dtype: float64"
      ]
     },
     "execution_count": 80,
     "metadata": {},
     "output_type": "execute_result"
    }
   ],
   "source": [
    "data['Pressure(dec)']"
   ]
  },
  {
   "cell_type": "code",
   "execution_count": 81,
   "metadata": {
    "colab": {},
    "colab_type": "code",
    "id": "8OgfdhVz9Qfo"
   },
   "outputs": [
    {
     "data": {
      "text/plain": [
       "pandas.core.series.Series"
      ]
     },
     "execution_count": 81,
     "metadata": {},
     "output_type": "execute_result"
    }
   ],
   "source": [
    "type(data['Pressure(dec)'])"
   ]
  },
  {
   "cell_type": "code",
   "execution_count": 82,
   "metadata": {},
   "outputs": [
    {
     "data": {
      "text/plain": [
       "pandas.core.series.Series"
      ]
     },
     "execution_count": 82,
     "metadata": {},
     "output_type": "execute_result"
    }
   ],
   "source": [
    "type(data['Chord_length(m)'])"
   ]
  },
  {
   "cell_type": "markdown",
   "metadata": {
    "colab_type": "text",
    "id": "CR1c5Nc-9Qf8"
   },
   "source": [
    "Note the type of the column selected."
   ]
  },
  {
   "cell_type": "markdown",
   "metadata": {
    "colab_type": "text",
    "id": "GP7zW6lP9QgK"
   },
   "source": [
    "Suppose we want to see stats on a certain frequency. This is where the `index_col` argument is used. Using the function `Dataframe.loc` (here, Dataframe should be replaced with the name of the dataframe we created), we use a label from the index column to get all information related to the value."
   ]
  },
  {
   "cell_type": "code",
   "execution_count": 83,
   "metadata": {
    "colab": {},
    "colab_type": "code",
    "id": "uYsnd2-C9QgQ"
   },
   "outputs": [
    {
     "data": {
      "text/html": [
       "<div>\n",
       "<style scoped>\n",
       "    .dataframe tbody tr th:only-of-type {\n",
       "        vertical-align: middle;\n",
       "    }\n",
       "\n",
       "    .dataframe tbody tr th {\n",
       "        vertical-align: top;\n",
       "    }\n",
       "\n",
       "    .dataframe thead th {\n",
       "        text-align: right;\n",
       "    }\n",
       "</style>\n",
       "<table border=\"1\" class=\"dataframe\">\n",
       "  <thead>\n",
       "    <tr style=\"text-align: right;\">\n",
       "      <th></th>\n",
       "      <th>Angle(deg)</th>\n",
       "      <th>Chord_length(m)</th>\n",
       "      <th>Velocity(ms)</th>\n",
       "      <th>Thickness(m)</th>\n",
       "      <th>Pressure(dec)</th>\n",
       "    </tr>\n",
       "    <tr>\n",
       "      <th>Freq(Hz)</th>\n",
       "      <th></th>\n",
       "      <th></th>\n",
       "      <th></th>\n",
       "      <th></th>\n",
       "      <th></th>\n",
       "    </tr>\n",
       "  </thead>\n",
       "  <tbody>\n",
       "    <tr>\n",
       "      <td>800</td>\n",
       "      <td>0.0</td>\n",
       "      <td>0.3048</td>\n",
       "      <td>71.3</td>\n",
       "      <td>0.002663</td>\n",
       "      <td>126.201</td>\n",
       "    </tr>\n",
       "    <tr>\n",
       "      <td>800</td>\n",
       "      <td>0.0</td>\n",
       "      <td>0.3048</td>\n",
       "      <td>55.5</td>\n",
       "      <td>0.002831</td>\n",
       "      <td>128.086</td>\n",
       "    </tr>\n",
       "    <tr>\n",
       "      <td>800</td>\n",
       "      <td>0.0</td>\n",
       "      <td>0.3048</td>\n",
       "      <td>39.6</td>\n",
       "      <td>0.003101</td>\n",
       "      <td>129.099</td>\n",
       "    </tr>\n",
       "    <tr>\n",
       "      <td>800</td>\n",
       "      <td>0.0</td>\n",
       "      <td>0.3048</td>\n",
       "      <td>31.7</td>\n",
       "      <td>0.003313</td>\n",
       "      <td>129.235</td>\n",
       "    </tr>\n",
       "    <tr>\n",
       "      <td>800</td>\n",
       "      <td>1.5</td>\n",
       "      <td>0.3048</td>\n",
       "      <td>71.3</td>\n",
       "      <td>0.003367</td>\n",
       "      <td>127.122</td>\n",
       "    </tr>\n",
       "    <tr>\n",
       "      <td>...</td>\n",
       "      <td>...</td>\n",
       "      <td>...</td>\n",
       "      <td>...</td>\n",
       "      <td>...</td>\n",
       "      <td>...</td>\n",
       "    </tr>\n",
       "    <tr>\n",
       "      <td>800</td>\n",
       "      <td>12.3</td>\n",
       "      <td>0.1016</td>\n",
       "      <td>55.5</td>\n",
       "      <td>0.036823</td>\n",
       "      <td>125.114</td>\n",
       "    </tr>\n",
       "    <tr>\n",
       "      <td>800</td>\n",
       "      <td>12.3</td>\n",
       "      <td>0.1016</td>\n",
       "      <td>39.6</td>\n",
       "      <td>0.040827</td>\n",
       "      <td>122.315</td>\n",
       "    </tr>\n",
       "    <tr>\n",
       "      <td>800</td>\n",
       "      <td>12.3</td>\n",
       "      <td>0.1016</td>\n",
       "      <td>31.7</td>\n",
       "      <td>0.041876</td>\n",
       "      <td>120.037</td>\n",
       "    </tr>\n",
       "    <tr>\n",
       "      <td>800</td>\n",
       "      <td>15.6</td>\n",
       "      <td>0.1016</td>\n",
       "      <td>71.3</td>\n",
       "      <td>0.043726</td>\n",
       "      <td>124.188</td>\n",
       "    </tr>\n",
       "    <tr>\n",
       "      <td>800</td>\n",
       "      <td>15.6</td>\n",
       "      <td>0.1016</td>\n",
       "      <td>39.6</td>\n",
       "      <td>0.052849</td>\n",
       "      <td>118.964</td>\n",
       "    </tr>\n",
       "  </tbody>\n",
       "</table>\n",
       "<p>97 rows × 5 columns</p>\n",
       "</div>"
      ],
      "text/plain": [
       "          Angle(deg)  Chord_length(m)  Velocity(ms)  Thickness(m)  \\\n",
       "Freq(Hz)                                                            \n",
       "800              0.0           0.3048          71.3      0.002663   \n",
       "800              0.0           0.3048          55.5      0.002831   \n",
       "800              0.0           0.3048          39.6      0.003101   \n",
       "800              0.0           0.3048          31.7      0.003313   \n",
       "800              1.5           0.3048          71.3      0.003367   \n",
       "...              ...              ...           ...           ...   \n",
       "800             12.3           0.1016          55.5      0.036823   \n",
       "800             12.3           0.1016          39.6      0.040827   \n",
       "800             12.3           0.1016          31.7      0.041876   \n",
       "800             15.6           0.1016          71.3      0.043726   \n",
       "800             15.6           0.1016          39.6      0.052849   \n",
       "\n",
       "          Pressure(dec)  \n",
       "Freq(Hz)                 \n",
       "800             126.201  \n",
       "800             128.086  \n",
       "800             129.099  \n",
       "800             129.235  \n",
       "800             127.122  \n",
       "...                 ...  \n",
       "800             125.114  \n",
       "800             122.315  \n",
       "800             120.037  \n",
       "800             124.188  \n",
       "800             118.964  \n",
       "\n",
       "[97 rows x 5 columns]"
      ]
     },
     "execution_count": 83,
     "metadata": {},
     "output_type": "execute_result"
    }
   ],
   "source": [
    "data.loc[800, :]"
   ]
  },
  {
   "cell_type": "markdown",
   "metadata": {
    "colab_type": "text",
    "id": "9VmoK6OG9Qgq"
   },
   "source": [
    "To select any row, we can specify the row number and select it using the iloc function."
   ]
  },
  {
   "cell_type": "code",
   "execution_count": 84,
   "metadata": {
    "colab": {},
    "colab_type": "code",
    "id": "sr3tkwJ89Qgt"
   },
   "outputs": [
    {
     "data": {
      "text/plain": [
       "Angle(deg)           0.000000\n",
       "Chord_length(m)      0.304800\n",
       "Velocity(ms)        71.300000\n",
       "Thickness(m)         0.002663\n",
       "Pressure(dec)      125.201000\n",
       "Name: 1000, dtype: float64"
      ]
     },
     "execution_count": 84,
     "metadata": {},
     "output_type": "execute_result"
    }
   ],
   "source": [
    "data.iloc[1, :]"
   ]
  },
  {
   "cell_type": "code",
   "execution_count": 85,
   "metadata": {},
   "outputs": [
    {
     "data": {
      "text/html": [
       "<div>\n",
       "<style scoped>\n",
       "    .dataframe tbody tr th:only-of-type {\n",
       "        vertical-align: middle;\n",
       "    }\n",
       "\n",
       "    .dataframe tbody tr th {\n",
       "        vertical-align: top;\n",
       "    }\n",
       "\n",
       "    .dataframe thead th {\n",
       "        text-align: right;\n",
       "    }\n",
       "</style>\n",
       "<table border=\"1\" class=\"dataframe\">\n",
       "  <thead>\n",
       "    <tr style=\"text-align: right;\">\n",
       "      <th>Freq(Hz)</th>\n",
       "      <th>800</th>\n",
       "      <th>1000</th>\n",
       "      <th>1250</th>\n",
       "      <th>1600</th>\n",
       "      <th>2000</th>\n",
       "      <th>2500</th>\n",
       "      <th>3150</th>\n",
       "      <th>4000</th>\n",
       "      <th>5000</th>\n",
       "      <th>6300</th>\n",
       "      <th>...</th>\n",
       "      <th>800</th>\n",
       "      <th>1000</th>\n",
       "      <th>1250</th>\n",
       "      <th>1600</th>\n",
       "      <th>2000</th>\n",
       "      <th>2500</th>\n",
       "      <th>3150</th>\n",
       "      <th>4000</th>\n",
       "      <th>5000</th>\n",
       "      <th>6300</th>\n",
       "    </tr>\n",
       "  </thead>\n",
       "  <tbody>\n",
       "    <tr>\n",
       "      <td>Angle(deg)</td>\n",
       "      <td>0.000000</td>\n",
       "      <td>0.000000</td>\n",
       "      <td>0.000000</td>\n",
       "      <td>0.000000</td>\n",
       "      <td>0.000000</td>\n",
       "      <td>0.000000</td>\n",
       "      <td>0.000000</td>\n",
       "      <td>0.000000</td>\n",
       "      <td>0.000000</td>\n",
       "      <td>0.000000</td>\n",
       "      <td>...</td>\n",
       "      <td>15.600000</td>\n",
       "      <td>15.600000</td>\n",
       "      <td>15.600000</td>\n",
       "      <td>15.600000</td>\n",
       "      <td>15.600000</td>\n",
       "      <td>15.600000</td>\n",
       "      <td>15.600000</td>\n",
       "      <td>15.600000</td>\n",
       "      <td>15.600000</td>\n",
       "      <td>15.600000</td>\n",
       "    </tr>\n",
       "    <tr>\n",
       "      <td>Chord_length(m)</td>\n",
       "      <td>0.304800</td>\n",
       "      <td>0.304800</td>\n",
       "      <td>0.304800</td>\n",
       "      <td>0.304800</td>\n",
       "      <td>0.304800</td>\n",
       "      <td>0.304800</td>\n",
       "      <td>0.304800</td>\n",
       "      <td>0.304800</td>\n",
       "      <td>0.304800</td>\n",
       "      <td>0.304800</td>\n",
       "      <td>...</td>\n",
       "      <td>0.101600</td>\n",
       "      <td>0.101600</td>\n",
       "      <td>0.101600</td>\n",
       "      <td>0.101600</td>\n",
       "      <td>0.101600</td>\n",
       "      <td>0.101600</td>\n",
       "      <td>0.101600</td>\n",
       "      <td>0.101600</td>\n",
       "      <td>0.101600</td>\n",
       "      <td>0.101600</td>\n",
       "    </tr>\n",
       "    <tr>\n",
       "      <td>Velocity(ms)</td>\n",
       "      <td>71.300000</td>\n",
       "      <td>71.300000</td>\n",
       "      <td>71.300000</td>\n",
       "      <td>71.300000</td>\n",
       "      <td>71.300000</td>\n",
       "      <td>71.300000</td>\n",
       "      <td>71.300000</td>\n",
       "      <td>71.300000</td>\n",
       "      <td>71.300000</td>\n",
       "      <td>71.300000</td>\n",
       "      <td>...</td>\n",
       "      <td>39.600000</td>\n",
       "      <td>39.600000</td>\n",
       "      <td>39.600000</td>\n",
       "      <td>39.600000</td>\n",
       "      <td>39.600000</td>\n",
       "      <td>39.600000</td>\n",
       "      <td>39.600000</td>\n",
       "      <td>39.600000</td>\n",
       "      <td>39.600000</td>\n",
       "      <td>39.600000</td>\n",
       "    </tr>\n",
       "    <tr>\n",
       "      <td>Thickness(m)</td>\n",
       "      <td>0.002663</td>\n",
       "      <td>0.002663</td>\n",
       "      <td>0.002663</td>\n",
       "      <td>0.002663</td>\n",
       "      <td>0.002663</td>\n",
       "      <td>0.002663</td>\n",
       "      <td>0.002663</td>\n",
       "      <td>0.002663</td>\n",
       "      <td>0.002663</td>\n",
       "      <td>0.002663</td>\n",
       "      <td>...</td>\n",
       "      <td>0.052849</td>\n",
       "      <td>0.052849</td>\n",
       "      <td>0.052849</td>\n",
       "      <td>0.052849</td>\n",
       "      <td>0.052849</td>\n",
       "      <td>0.052849</td>\n",
       "      <td>0.052849</td>\n",
       "      <td>0.052849</td>\n",
       "      <td>0.052849</td>\n",
       "      <td>0.052849</td>\n",
       "    </tr>\n",
       "    <tr>\n",
       "      <td>Pressure(dec)</td>\n",
       "      <td>126.201000</td>\n",
       "      <td>125.201000</td>\n",
       "      <td>125.951000</td>\n",
       "      <td>127.591000</td>\n",
       "      <td>127.461000</td>\n",
       "      <td>125.571000</td>\n",
       "      <td>125.201000</td>\n",
       "      <td>123.061000</td>\n",
       "      <td>121.301000</td>\n",
       "      <td>119.541000</td>\n",
       "      <td>...</td>\n",
       "      <td>118.964000</td>\n",
       "      <td>119.224000</td>\n",
       "      <td>118.214000</td>\n",
       "      <td>114.554000</td>\n",
       "      <td>110.894000</td>\n",
       "      <td>110.264000</td>\n",
       "      <td>109.254000</td>\n",
       "      <td>106.604000</td>\n",
       "      <td>106.224000</td>\n",
       "      <td>104.204000</td>\n",
       "    </tr>\n",
       "  </tbody>\n",
       "</table>\n",
       "<p>5 rows × 1503 columns</p>\n",
       "</div>"
      ],
      "text/plain": [
       "Freq(Hz)               800         1000        1250        1600        2000  \\\n",
       "Angle(deg)         0.000000    0.000000    0.000000    0.000000    0.000000   \n",
       "Chord_length(m)    0.304800    0.304800    0.304800    0.304800    0.304800   \n",
       "Velocity(ms)      71.300000   71.300000   71.300000   71.300000   71.300000   \n",
       "Thickness(m)       0.002663    0.002663    0.002663    0.002663    0.002663   \n",
       "Pressure(dec)    126.201000  125.201000  125.951000  127.591000  127.461000   \n",
       "\n",
       "Freq(Hz)               2500        3150        4000        5000        6300  \\\n",
       "Angle(deg)         0.000000    0.000000    0.000000    0.000000    0.000000   \n",
       "Chord_length(m)    0.304800    0.304800    0.304800    0.304800    0.304800   \n",
       "Velocity(ms)      71.300000   71.300000   71.300000   71.300000   71.300000   \n",
       "Thickness(m)       0.002663    0.002663    0.002663    0.002663    0.002663   \n",
       "Pressure(dec)    125.571000  125.201000  123.061000  121.301000  119.541000   \n",
       "\n",
       "Freq(Hz)         ...        800         1000        1250        1600  \\\n",
       "Angle(deg)       ...   15.600000   15.600000   15.600000   15.600000   \n",
       "Chord_length(m)  ...    0.101600    0.101600    0.101600    0.101600   \n",
       "Velocity(ms)     ...   39.600000   39.600000   39.600000   39.600000   \n",
       "Thickness(m)     ...    0.052849    0.052849    0.052849    0.052849   \n",
       "Pressure(dec)    ...  118.964000  119.224000  118.214000  114.554000   \n",
       "\n",
       "Freq(Hz)               2000        2500        3150        4000        5000  \\\n",
       "Angle(deg)        15.600000   15.600000   15.600000   15.600000   15.600000   \n",
       "Chord_length(m)    0.101600    0.101600    0.101600    0.101600    0.101600   \n",
       "Velocity(ms)      39.600000   39.600000   39.600000   39.600000   39.600000   \n",
       "Thickness(m)       0.052849    0.052849    0.052849    0.052849    0.052849   \n",
       "Pressure(dec)    110.894000  110.264000  109.254000  106.604000  106.224000   \n",
       "\n",
       "Freq(Hz)               6300  \n",
       "Angle(deg)        15.600000  \n",
       "Chord_length(m)    0.101600  \n",
       "Velocity(ms)      39.600000  \n",
       "Thickness(m)       0.052849  \n",
       "Pressure(dec)    104.204000  \n",
       "\n",
       "[5 rows x 1503 columns]"
      ]
     },
     "execution_count": 85,
     "metadata": {},
     "output_type": "execute_result"
    }
   ],
   "source": [
    "data.transpose() "
   ]
  },
  {
   "cell_type": "markdown",
   "metadata": {
    "colab_type": "text",
    "id": "r40Z0eH49Qg3"
   },
   "source": [
    "### Selecting certain data points from dataset"
   ]
  },
  {
   "cell_type": "markdown",
   "metadata": {
    "colab_type": "text",
    "id": "30uhUWr89Qg7"
   },
   "source": [
    "We can use the `Dataframe.loc` function, which accepts a label, to select a single observation point from the dataframe."
   ]
  },
  {
   "cell_type": "code",
   "execution_count": 86,
   "metadata": {
    "colab": {},
    "colab_type": "code",
    "id": "JNMg3l509QhB"
   },
   "outputs": [
    {
     "data": {
      "text/plain": [
       "Freq(Hz)\n",
       "800     0.002663\n",
       "1000    0.002663\n",
       "1250    0.002663\n",
       "1600    0.002663\n",
       "2000    0.002663\n",
       "          ...   \n",
       "2500    0.052849\n",
       "3150    0.052849\n",
       "4000    0.052849\n",
       "5000    0.052849\n",
       "6300    0.052849\n",
       "Name: Thickness(m), Length: 1503, dtype: float64"
      ]
     },
     "execution_count": 86,
     "metadata": {},
     "output_type": "execute_result"
    }
   ],
   "source": [
    "data.loc[:,'Thickness(m)',] # index value and thickness values returned"
   ]
  },
  {
   "cell_type": "markdown",
   "metadata": {
    "colab_type": "text",
    "id": "aQlfo6Dp9Qhe"
   },
   "source": [
    "This is similar to using integer indices to select a single data point.In other words, .loc allows one to select columns based on column labels while .iloc can be used for position-based indexing."
   ]
  },
  {
   "cell_type": "code",
   "execution_count": 87,
   "metadata": {
    "colab": {},
    "colab_type": "code",
    "id": "ObT1GHR09Qhn"
   },
   "outputs": [
    {
     "data": {
      "text/plain": [
       "Freq(Hz)\n",
       "800     0.002663\n",
       "1000    0.002663\n",
       "1250    0.002663\n",
       "1600    0.002663\n",
       "2000    0.002663\n",
       "          ...   \n",
       "2500    0.052849\n",
       "3150    0.052849\n",
       "4000    0.052849\n",
       "5000    0.052849\n",
       "6300    0.052849\n",
       "Name: Thickness(m), Length: 1503, dtype: float64"
      ]
     },
     "execution_count": 87,
     "metadata": {},
     "output_type": "execute_result"
    }
   ],
   "source": [
    "data.iloc[:, 3]"
   ]
  },
  {
   "cell_type": "markdown",
   "metadata": {
    "colab_type": "text",
    "id": "hQNJSwCq9Qh8"
   },
   "source": [
    "### Selecting a subset with slicing"
   ]
  },
  {
   "cell_type": "markdown",
   "metadata": {
    "colab_type": "text",
    "id": "XRYB2ON69QiF"
   },
   "source": [
    "Suppose you are only interested in a subset of the data. "
   ]
  },
  {
   "cell_type": "code",
   "execution_count": 88,
   "metadata": {
    "colab": {},
    "colab_type": "code",
    "id": "kfg04JQ49QiL"
   },
   "outputs": [],
   "source": [
    "data = data.sort_index() # sort the data according to the index"
   ]
  },
  {
   "cell_type": "code",
   "execution_count": 89,
   "metadata": {
    "colab": {},
    "colab_type": "code",
    "id": "SX4bhpfx9Qid",
    "scrolled": true
   },
   "outputs": [
    {
     "data": {
      "text/html": [
       "<div>\n",
       "<style scoped>\n",
       "    .dataframe tbody tr th:only-of-type {\n",
       "        vertical-align: middle;\n",
       "    }\n",
       "\n",
       "    .dataframe tbody tr th {\n",
       "        vertical-align: top;\n",
       "    }\n",
       "\n",
       "    .dataframe thead th {\n",
       "        text-align: right;\n",
       "    }\n",
       "</style>\n",
       "<table border=\"1\" class=\"dataframe\">\n",
       "  <thead>\n",
       "    <tr style=\"text-align: right;\">\n",
       "      <th></th>\n",
       "      <th>Angle(deg)</th>\n",
       "      <th>Chord_length(m)</th>\n",
       "      <th>Velocity(ms)</th>\n",
       "      <th>Thickness(m)</th>\n",
       "      <th>Pressure(dec)</th>\n",
       "    </tr>\n",
       "    <tr>\n",
       "      <th>Freq(Hz)</th>\n",
       "      <th></th>\n",
       "      <th></th>\n",
       "      <th></th>\n",
       "      <th></th>\n",
       "      <th></th>\n",
       "    </tr>\n",
       "  </thead>\n",
       "  <tbody>\n",
       "    <tr>\n",
       "      <td>200</td>\n",
       "      <td>7.3</td>\n",
       "      <td>0.2286</td>\n",
       "      <td>31.7</td>\n",
       "      <td>0.013267</td>\n",
       "      <td>128.679</td>\n",
       "    </tr>\n",
       "    <tr>\n",
       "      <td>200</td>\n",
       "      <td>9.9</td>\n",
       "      <td>0.1524</td>\n",
       "      <td>39.6</td>\n",
       "      <td>0.023333</td>\n",
       "      <td>127.315</td>\n",
       "    </tr>\n",
       "    <tr>\n",
       "      <td>200</td>\n",
       "      <td>0.0</td>\n",
       "      <td>0.3048</td>\n",
       "      <td>39.6</td>\n",
       "      <td>0.003101</td>\n",
       "      <td>118.129</td>\n",
       "    </tr>\n",
       "    <tr>\n",
       "      <td>200</td>\n",
       "      <td>9.5</td>\n",
       "      <td>0.0254</td>\n",
       "      <td>39.6</td>\n",
       "      <td>0.004498</td>\n",
       "      <td>116.074</td>\n",
       "    </tr>\n",
       "    <tr>\n",
       "      <td>200</td>\n",
       "      <td>8.9</td>\n",
       "      <td>0.1016</td>\n",
       "      <td>39.6</td>\n",
       "      <td>0.012460</td>\n",
       "      <td>133.420</td>\n",
       "    </tr>\n",
       "  </tbody>\n",
       "</table>\n",
       "</div>"
      ],
      "text/plain": [
       "          Angle(deg)  Chord_length(m)  Velocity(ms)  Thickness(m)  \\\n",
       "Freq(Hz)                                                            \n",
       "200              7.3           0.2286          31.7      0.013267   \n",
       "200              9.9           0.1524          39.6      0.023333   \n",
       "200              0.0           0.3048          39.6      0.003101   \n",
       "200              9.5           0.0254          39.6      0.004498   \n",
       "200              8.9           0.1016          39.6      0.012460   \n",
       "\n",
       "          Pressure(dec)  \n",
       "Freq(Hz)                 \n",
       "200             128.679  \n",
       "200             127.315  \n",
       "200             118.129  \n",
       "200             116.074  \n",
       "200             133.420  "
      ]
     },
     "execution_count": 89,
     "metadata": {},
     "output_type": "execute_result"
    }
   ],
   "source": [
    "data.head()"
   ]
  },
  {
   "cell_type": "markdown",
   "metadata": {
    "colab_type": "text",
    "id": "SXNI5FQq9Qis"
   },
   "source": [
    "Use the : operator to select rows and columns. For example, \n",
    "    \n",
    "    loc[:,:] or simply [:,:] returns the whole dataset. The comma separates the rows and columns\n",
    "    iloc[:,2] returns all the rows in the 3rd column.\n",
    "    iloc[:, 1:3] returns all the rows in column 1, 2 and 3."
   ]
  },
  {
   "cell_type": "code",
   "execution_count": 90,
   "metadata": {},
   "outputs": [
    {
     "data": {
      "text/html": [
       "<div>\n",
       "<style scoped>\n",
       "    .dataframe tbody tr th:only-of-type {\n",
       "        vertical-align: middle;\n",
       "    }\n",
       "\n",
       "    .dataframe tbody tr th {\n",
       "        vertical-align: top;\n",
       "    }\n",
       "\n",
       "    .dataframe thead th {\n",
       "        text-align: right;\n",
       "    }\n",
       "</style>\n",
       "<table border=\"1\" class=\"dataframe\">\n",
       "  <thead>\n",
       "    <tr style=\"text-align: right;\">\n",
       "      <th></th>\n",
       "      <th>Angle(deg)</th>\n",
       "      <th>Chord_length(m)</th>\n",
       "      <th>Velocity(ms)</th>\n",
       "      <th>Thickness(m)</th>\n",
       "      <th>Pressure(dec)</th>\n",
       "    </tr>\n",
       "    <tr>\n",
       "      <th>Freq(Hz)</th>\n",
       "      <th></th>\n",
       "      <th></th>\n",
       "      <th></th>\n",
       "      <th></th>\n",
       "      <th></th>\n",
       "    </tr>\n",
       "  </thead>\n",
       "  <tbody>\n",
       "    <tr>\n",
       "      <td>200</td>\n",
       "      <td>7.3</td>\n",
       "      <td>0.2286</td>\n",
       "      <td>31.7</td>\n",
       "      <td>0.013267</td>\n",
       "      <td>128.679</td>\n",
       "    </tr>\n",
       "    <tr>\n",
       "      <td>200</td>\n",
       "      <td>9.9</td>\n",
       "      <td>0.1524</td>\n",
       "      <td>39.6</td>\n",
       "      <td>0.023333</td>\n",
       "      <td>127.315</td>\n",
       "    </tr>\n",
       "    <tr>\n",
       "      <td>200</td>\n",
       "      <td>0.0</td>\n",
       "      <td>0.3048</td>\n",
       "      <td>39.6</td>\n",
       "      <td>0.003101</td>\n",
       "      <td>118.129</td>\n",
       "    </tr>\n",
       "    <tr>\n",
       "      <td>200</td>\n",
       "      <td>9.5</td>\n",
       "      <td>0.0254</td>\n",
       "      <td>39.6</td>\n",
       "      <td>0.004498</td>\n",
       "      <td>116.074</td>\n",
       "    </tr>\n",
       "    <tr>\n",
       "      <td>200</td>\n",
       "      <td>8.9</td>\n",
       "      <td>0.1016</td>\n",
       "      <td>39.6</td>\n",
       "      <td>0.012460</td>\n",
       "      <td>133.420</td>\n",
       "    </tr>\n",
       "    <tr>\n",
       "      <td>...</td>\n",
       "      <td>...</td>\n",
       "      <td>...</td>\n",
       "      <td>...</td>\n",
       "      <td>...</td>\n",
       "      <td>...</td>\n",
       "    </tr>\n",
       "    <tr>\n",
       "      <td>20000</td>\n",
       "      <td>4.8</td>\n",
       "      <td>0.0254</td>\n",
       "      <td>55.5</td>\n",
       "      <td>0.000873</td>\n",
       "      <td>121.284</td>\n",
       "    </tr>\n",
       "    <tr>\n",
       "      <td>20000</td>\n",
       "      <td>4.8</td>\n",
       "      <td>0.0254</td>\n",
       "      <td>71.3</td>\n",
       "      <td>0.000849</td>\n",
       "      <td>119.708</td>\n",
       "    </tr>\n",
       "    <tr>\n",
       "      <td>20000</td>\n",
       "      <td>0.0</td>\n",
       "      <td>0.0254</td>\n",
       "      <td>55.5</td>\n",
       "      <td>0.000412</td>\n",
       "      <td>121.933</td>\n",
       "    </tr>\n",
       "    <tr>\n",
       "      <td>20000</td>\n",
       "      <td>0.0</td>\n",
       "      <td>0.0254</td>\n",
       "      <td>71.3</td>\n",
       "      <td>0.000401</td>\n",
       "      <td>123.217</td>\n",
       "    </tr>\n",
       "    <tr>\n",
       "      <td>20000</td>\n",
       "      <td>4.0</td>\n",
       "      <td>0.2286</td>\n",
       "      <td>71.3</td>\n",
       "      <td>0.004006</td>\n",
       "      <td>109.638</td>\n",
       "    </tr>\n",
       "  </tbody>\n",
       "</table>\n",
       "<p>1503 rows × 5 columns</p>\n",
       "</div>"
      ],
      "text/plain": [
       "          Angle(deg)  Chord_length(m)  Velocity(ms)  Thickness(m)  \\\n",
       "Freq(Hz)                                                            \n",
       "200              7.3           0.2286          31.7      0.013267   \n",
       "200              9.9           0.1524          39.6      0.023333   \n",
       "200              0.0           0.3048          39.6      0.003101   \n",
       "200              9.5           0.0254          39.6      0.004498   \n",
       "200              8.9           0.1016          39.6      0.012460   \n",
       "...              ...              ...           ...           ...   \n",
       "20000            4.8           0.0254          55.5      0.000873   \n",
       "20000            4.8           0.0254          71.3      0.000849   \n",
       "20000            0.0           0.0254          55.5      0.000412   \n",
       "20000            0.0           0.0254          71.3      0.000401   \n",
       "20000            4.0           0.2286          71.3      0.004006   \n",
       "\n",
       "          Pressure(dec)  \n",
       "Freq(Hz)                 \n",
       "200             128.679  \n",
       "200             127.315  \n",
       "200             118.129  \n",
       "200             116.074  \n",
       "200             133.420  \n",
       "...                 ...  \n",
       "20000           121.284  \n",
       "20000           119.708  \n",
       "20000           121.933  \n",
       "20000           123.217  \n",
       "20000           109.638  \n",
       "\n",
       "[1503 rows x 5 columns]"
      ]
     },
     "execution_count": 90,
     "metadata": {},
     "output_type": "execute_result"
    }
   ],
   "source": [
    "data.loc[:,:] # loc[:,:] or simply [:,:] returns the whole dataset. The comma separates the rows and columns"
   ]
  },
  {
   "cell_type": "code",
   "execution_count": 91,
   "metadata": {},
   "outputs": [
    {
     "data": {
      "text/html": [
       "<div>\n",
       "<style scoped>\n",
       "    .dataframe tbody tr th:only-of-type {\n",
       "        vertical-align: middle;\n",
       "    }\n",
       "\n",
       "    .dataframe tbody tr th {\n",
       "        vertical-align: top;\n",
       "    }\n",
       "\n",
       "    .dataframe thead th {\n",
       "        text-align: right;\n",
       "    }\n",
       "</style>\n",
       "<table border=\"1\" class=\"dataframe\">\n",
       "  <thead>\n",
       "    <tr style=\"text-align: right;\">\n",
       "      <th></th>\n",
       "      <th>Chord_length(m)</th>\n",
       "      <th>Velocity(ms)</th>\n",
       "    </tr>\n",
       "    <tr>\n",
       "      <th>Freq(Hz)</th>\n",
       "      <th></th>\n",
       "      <th></th>\n",
       "    </tr>\n",
       "  </thead>\n",
       "  <tbody>\n",
       "    <tr>\n",
       "      <td>200</td>\n",
       "      <td>0.2286</td>\n",
       "      <td>31.7</td>\n",
       "    </tr>\n",
       "    <tr>\n",
       "      <td>200</td>\n",
       "      <td>0.1524</td>\n",
       "      <td>39.6</td>\n",
       "    </tr>\n",
       "    <tr>\n",
       "      <td>200</td>\n",
       "      <td>0.3048</td>\n",
       "      <td>39.6</td>\n",
       "    </tr>\n",
       "    <tr>\n",
       "      <td>200</td>\n",
       "      <td>0.0254</td>\n",
       "      <td>39.6</td>\n",
       "    </tr>\n",
       "    <tr>\n",
       "      <td>200</td>\n",
       "      <td>0.1016</td>\n",
       "      <td>39.6</td>\n",
       "    </tr>\n",
       "    <tr>\n",
       "      <td>...</td>\n",
       "      <td>...</td>\n",
       "      <td>...</td>\n",
       "    </tr>\n",
       "    <tr>\n",
       "      <td>20000</td>\n",
       "      <td>0.0254</td>\n",
       "      <td>55.5</td>\n",
       "    </tr>\n",
       "    <tr>\n",
       "      <td>20000</td>\n",
       "      <td>0.0254</td>\n",
       "      <td>71.3</td>\n",
       "    </tr>\n",
       "    <tr>\n",
       "      <td>20000</td>\n",
       "      <td>0.0254</td>\n",
       "      <td>55.5</td>\n",
       "    </tr>\n",
       "    <tr>\n",
       "      <td>20000</td>\n",
       "      <td>0.0254</td>\n",
       "      <td>71.3</td>\n",
       "    </tr>\n",
       "    <tr>\n",
       "      <td>20000</td>\n",
       "      <td>0.2286</td>\n",
       "      <td>71.3</td>\n",
       "    </tr>\n",
       "  </tbody>\n",
       "</table>\n",
       "<p>1503 rows × 2 columns</p>\n",
       "</div>"
      ],
      "text/plain": [
       "          Chord_length(m)  Velocity(ms)\n",
       "Freq(Hz)                               \n",
       "200                0.2286          31.7\n",
       "200                0.1524          39.6\n",
       "200                0.3048          39.6\n",
       "200                0.0254          39.6\n",
       "200                0.1016          39.6\n",
       "...                   ...           ...\n",
       "20000              0.0254          55.5\n",
       "20000              0.0254          71.3\n",
       "20000              0.0254          55.5\n",
       "20000              0.0254          71.3\n",
       "20000              0.2286          71.3\n",
       "\n",
       "[1503 rows x 2 columns]"
      ]
     },
     "execution_count": 91,
     "metadata": {},
     "output_type": "execute_result"
    }
   ],
   "source": [
    "data.iloc[:, 1:3] #iloc[:, 1:3] returns all the rows in column 1, 2 and 3."
   ]
  },
  {
   "cell_type": "code",
   "execution_count": 92,
   "metadata": {
    "colab": {},
    "colab_type": "code",
    "id": "0aaPs5oc9Qi3"
   },
   "outputs": [
    {
     "data": {
      "text/html": [
       "<div>\n",
       "<style scoped>\n",
       "    .dataframe tbody tr th:only-of-type {\n",
       "        vertical-align: middle;\n",
       "    }\n",
       "\n",
       "    .dataframe tbody tr th {\n",
       "        vertical-align: top;\n",
       "    }\n",
       "\n",
       "    .dataframe thead th {\n",
       "        text-align: right;\n",
       "    }\n",
       "</style>\n",
       "<table border=\"1\" class=\"dataframe\">\n",
       "  <thead>\n",
       "    <tr style=\"text-align: right;\">\n",
       "      <th></th>\n",
       "      <th>Angle(deg)</th>\n",
       "      <th>Chord_length(m)</th>\n",
       "      <th>Velocity(ms)</th>\n",
       "      <th>Thickness(m)</th>\n",
       "      <th>Pressure(dec)</th>\n",
       "    </tr>\n",
       "    <tr>\n",
       "      <th>Freq(Hz)</th>\n",
       "      <th></th>\n",
       "      <th></th>\n",
       "      <th></th>\n",
       "      <th></th>\n",
       "      <th></th>\n",
       "    </tr>\n",
       "  </thead>\n",
       "  <tbody>\n",
       "    <tr>\n",
       "      <td>200</td>\n",
       "      <td>7.3</td>\n",
       "      <td>0.2286</td>\n",
       "      <td>31.7</td>\n",
       "      <td>0.013267</td>\n",
       "      <td>128.679</td>\n",
       "    </tr>\n",
       "    <tr>\n",
       "      <td>200</td>\n",
       "      <td>9.9</td>\n",
       "      <td>0.1524</td>\n",
       "      <td>39.6</td>\n",
       "      <td>0.023333</td>\n",
       "      <td>127.315</td>\n",
       "    </tr>\n",
       "    <tr>\n",
       "      <td>200</td>\n",
       "      <td>0.0</td>\n",
       "      <td>0.3048</td>\n",
       "      <td>39.6</td>\n",
       "      <td>0.003101</td>\n",
       "      <td>118.129</td>\n",
       "    </tr>\n",
       "    <tr>\n",
       "      <td>200</td>\n",
       "      <td>9.5</td>\n",
       "      <td>0.0254</td>\n",
       "      <td>39.6</td>\n",
       "      <td>0.004498</td>\n",
       "      <td>116.074</td>\n",
       "    </tr>\n",
       "    <tr>\n",
       "      <td>200</td>\n",
       "      <td>8.9</td>\n",
       "      <td>0.1016</td>\n",
       "      <td>39.6</td>\n",
       "      <td>0.012460</td>\n",
       "      <td>133.420</td>\n",
       "    </tr>\n",
       "    <tr>\n",
       "      <td>...</td>\n",
       "      <td>...</td>\n",
       "      <td>...</td>\n",
       "      <td>...</td>\n",
       "      <td>...</td>\n",
       "      <td>...</td>\n",
       "    </tr>\n",
       "    <tr>\n",
       "      <td>800</td>\n",
       "      <td>0.0</td>\n",
       "      <td>0.3048</td>\n",
       "      <td>31.7</td>\n",
       "      <td>0.003313</td>\n",
       "      <td>129.235</td>\n",
       "    </tr>\n",
       "    <tr>\n",
       "      <td>800</td>\n",
       "      <td>0.0</td>\n",
       "      <td>0.3048</td>\n",
       "      <td>39.6</td>\n",
       "      <td>0.003101</td>\n",
       "      <td>129.099</td>\n",
       "    </tr>\n",
       "    <tr>\n",
       "      <td>800</td>\n",
       "      <td>4.0</td>\n",
       "      <td>0.2286</td>\n",
       "      <td>55.5</td>\n",
       "      <td>0.004286</td>\n",
       "      <td>131.864</td>\n",
       "    </tr>\n",
       "    <tr>\n",
       "      <td>800</td>\n",
       "      <td>4.0</td>\n",
       "      <td>0.2286</td>\n",
       "      <td>71.3</td>\n",
       "      <td>0.004006</td>\n",
       "      <td>130.688</td>\n",
       "    </tr>\n",
       "    <tr>\n",
       "      <td>800</td>\n",
       "      <td>3.0</td>\n",
       "      <td>0.3048</td>\n",
       "      <td>71.3</td>\n",
       "      <td>0.004257</td>\n",
       "      <td>129.494</td>\n",
       "    </tr>\n",
       "  </tbody>\n",
       "</table>\n",
       "<p>465 rows × 5 columns</p>\n",
       "</div>"
      ],
      "text/plain": [
       "          Angle(deg)  Chord_length(m)  Velocity(ms)  Thickness(m)  \\\n",
       "Freq(Hz)                                                            \n",
       "200              7.3           0.2286          31.7      0.013267   \n",
       "200              9.9           0.1524          39.6      0.023333   \n",
       "200              0.0           0.3048          39.6      0.003101   \n",
       "200              9.5           0.0254          39.6      0.004498   \n",
       "200              8.9           0.1016          39.6      0.012460   \n",
       "...              ...              ...           ...           ...   \n",
       "800              0.0           0.3048          31.7      0.003313   \n",
       "800              0.0           0.3048          39.6      0.003101   \n",
       "800              4.0           0.2286          55.5      0.004286   \n",
       "800              4.0           0.2286          71.3      0.004006   \n",
       "800              3.0           0.3048          71.3      0.004257   \n",
       "\n",
       "          Pressure(dec)  \n",
       "Freq(Hz)                 \n",
       "200             128.679  \n",
       "200             127.315  \n",
       "200             118.129  \n",
       "200             116.074  \n",
       "200             133.420  \n",
       "...                 ...  \n",
       "800             129.235  \n",
       "800             129.099  \n",
       "800             131.864  \n",
       "800             130.688  \n",
       "800             129.494  \n",
       "\n",
       "[465 rows x 5 columns]"
      ]
     },
     "execution_count": 92,
     "metadata": {},
     "output_type": "execute_result"
    }
   ],
   "source": [
    "data.loc[200:800, :]           # return all columns with index row entries between 200 and 800 Hz"
   ]
  },
  {
   "cell_type": "code",
   "execution_count": 93,
   "metadata": {
    "colab": {},
    "colab_type": "code",
    "id": "KLh7gJWJ9QjG"
   },
   "outputs": [
    {
     "data": {
      "text/html": [
       "<div>\n",
       "<style scoped>\n",
       "    .dataframe tbody tr th:only-of-type {\n",
       "        vertical-align: middle;\n",
       "    }\n",
       "\n",
       "    .dataframe tbody tr th {\n",
       "        vertical-align: top;\n",
       "    }\n",
       "\n",
       "    .dataframe thead th {\n",
       "        text-align: right;\n",
       "    }\n",
       "</style>\n",
       "<table border=\"1\" class=\"dataframe\">\n",
       "  <thead>\n",
       "    <tr style=\"text-align: right;\">\n",
       "      <th></th>\n",
       "      <th>Angle(deg)</th>\n",
       "      <th>Chord_length(m)</th>\n",
       "      <th>Velocity(ms)</th>\n",
       "      <th>Thickness(m)</th>\n",
       "      <th>Pressure(dec)</th>\n",
       "    </tr>\n",
       "    <tr>\n",
       "      <th>Freq(Hz)</th>\n",
       "      <th></th>\n",
       "      <th></th>\n",
       "      <th></th>\n",
       "      <th></th>\n",
       "      <th></th>\n",
       "    </tr>\n",
       "  </thead>\n",
       "  <tbody>\n",
       "    <tr>\n",
       "      <td>200</td>\n",
       "      <td>7.3</td>\n",
       "      <td>0.2286</td>\n",
       "      <td>31.7</td>\n",
       "      <td>0.013267</td>\n",
       "      <td>128.679</td>\n",
       "    </tr>\n",
       "    <tr>\n",
       "      <td>200</td>\n",
       "      <td>9.9</td>\n",
       "      <td>0.1524</td>\n",
       "      <td>39.6</td>\n",
       "      <td>0.023333</td>\n",
       "      <td>127.315</td>\n",
       "    </tr>\n",
       "    <tr>\n",
       "      <td>200</td>\n",
       "      <td>0.0</td>\n",
       "      <td>0.3048</td>\n",
       "      <td>39.6</td>\n",
       "      <td>0.003101</td>\n",
       "      <td>118.129</td>\n",
       "    </tr>\n",
       "    <tr>\n",
       "      <td>200</td>\n",
       "      <td>9.5</td>\n",
       "      <td>0.0254</td>\n",
       "      <td>39.6</td>\n",
       "      <td>0.004498</td>\n",
       "      <td>116.074</td>\n",
       "    </tr>\n",
       "    <tr>\n",
       "      <td>200</td>\n",
       "      <td>8.9</td>\n",
       "      <td>0.1016</td>\n",
       "      <td>39.6</td>\n",
       "      <td>0.012460</td>\n",
       "      <td>133.420</td>\n",
       "    </tr>\n",
       "    <tr>\n",
       "      <td>200</td>\n",
       "      <td>9.5</td>\n",
       "      <td>0.0254</td>\n",
       "      <td>31.7</td>\n",
       "      <td>0.004614</td>\n",
       "      <td>119.146</td>\n",
       "    </tr>\n",
       "    <tr>\n",
       "      <td>200</td>\n",
       "      <td>12.3</td>\n",
       "      <td>0.1016</td>\n",
       "      <td>39.6</td>\n",
       "      <td>0.040827</td>\n",
       "      <td>128.545</td>\n",
       "    </tr>\n",
       "    <tr>\n",
       "      <td>200</td>\n",
       "      <td>7.3</td>\n",
       "      <td>0.2286</td>\n",
       "      <td>39.6</td>\n",
       "      <td>0.012348</td>\n",
       "      <td>130.989</td>\n",
       "    </tr>\n",
       "    <tr>\n",
       "      <td>200</td>\n",
       "      <td>9.9</td>\n",
       "      <td>0.1524</td>\n",
       "      <td>71.3</td>\n",
       "      <td>0.019300</td>\n",
       "      <td>134.319</td>\n",
       "    </tr>\n",
       "    <tr>\n",
       "      <td>200</td>\n",
       "      <td>17.4</td>\n",
       "      <td>0.0254</td>\n",
       "      <td>71.3</td>\n",
       "      <td>0.016104</td>\n",
       "      <td>112.506</td>\n",
       "    </tr>\n",
       "    <tr>\n",
       "      <td>200</td>\n",
       "      <td>12.3</td>\n",
       "      <td>0.1016</td>\n",
       "      <td>55.5</td>\n",
       "      <td>0.036823</td>\n",
       "      <td>132.304</td>\n",
       "    </tr>\n",
       "    <tr>\n",
       "      <td>200</td>\n",
       "      <td>17.4</td>\n",
       "      <td>0.0254</td>\n",
       "      <td>55.5</td>\n",
       "      <td>0.016571</td>\n",
       "      <td>109.951</td>\n",
       "    </tr>\n",
       "    <tr>\n",
       "      <td>200</td>\n",
       "      <td>0.0</td>\n",
       "      <td>0.3048</td>\n",
       "      <td>31.7</td>\n",
       "      <td>0.003313</td>\n",
       "      <td>117.195</td>\n",
       "    </tr>\n",
       "    <tr>\n",
       "      <td>200</td>\n",
       "      <td>17.4</td>\n",
       "      <td>0.0254</td>\n",
       "      <td>39.6</td>\n",
       "      <td>0.017221</td>\n",
       "      <td>114.044</td>\n",
       "    </tr>\n",
       "    <tr>\n",
       "      <td>200</td>\n",
       "      <td>17.4</td>\n",
       "      <td>0.0254</td>\n",
       "      <td>31.7</td>\n",
       "      <td>0.017663</td>\n",
       "      <td>116.146</td>\n",
       "    </tr>\n",
       "    <tr>\n",
       "      <td>200</td>\n",
       "      <td>22.2</td>\n",
       "      <td>0.0254</td>\n",
       "      <td>39.6</td>\n",
       "      <td>0.022903</td>\n",
       "      <td>116.066</td>\n",
       "    </tr>\n",
       "    <tr>\n",
       "      <td>200</td>\n",
       "      <td>12.3</td>\n",
       "      <td>0.1016</td>\n",
       "      <td>71.3</td>\n",
       "      <td>0.033779</td>\n",
       "      <td>130.588</td>\n",
       "    </tr>\n",
       "    <tr>\n",
       "      <td>200</td>\n",
       "      <td>7.3</td>\n",
       "      <td>0.2286</td>\n",
       "      <td>71.3</td>\n",
       "      <td>0.010440</td>\n",
       "      <td>138.758</td>\n",
       "    </tr>\n",
       "    <tr>\n",
       "      <td>200</td>\n",
       "      <td>7.3</td>\n",
       "      <td>0.2286</td>\n",
       "      <td>55.5</td>\n",
       "      <td>0.011171</td>\n",
       "      <td>135.234</td>\n",
       "    </tr>\n",
       "    <tr>\n",
       "      <td>200</td>\n",
       "      <td>8.9</td>\n",
       "      <td>0.1016</td>\n",
       "      <td>71.3</td>\n",
       "      <td>0.010309</td>\n",
       "      <td>133.503</td>\n",
       "    </tr>\n",
       "    <tr>\n",
       "      <td>200</td>\n",
       "      <td>12.3</td>\n",
       "      <td>0.1016</td>\n",
       "      <td>31.7</td>\n",
       "      <td>0.041876</td>\n",
       "      <td>124.987</td>\n",
       "    </tr>\n",
       "    <tr>\n",
       "      <td>200</td>\n",
       "      <td>19.7</td>\n",
       "      <td>0.0508</td>\n",
       "      <td>39.6</td>\n",
       "      <td>0.036484</td>\n",
       "      <td>125.974</td>\n",
       "    </tr>\n",
       "    <tr>\n",
       "      <td>200</td>\n",
       "      <td>9.9</td>\n",
       "      <td>0.1524</td>\n",
       "      <td>55.5</td>\n",
       "      <td>0.020844</td>\n",
       "      <td>131.955</td>\n",
       "    </tr>\n",
       "    <tr>\n",
       "      <td>200</td>\n",
       "      <td>15.4</td>\n",
       "      <td>0.0508</td>\n",
       "      <td>55.5</td>\n",
       "      <td>0.027193</td>\n",
       "      <td>122.940</td>\n",
       "    </tr>\n",
       "    <tr>\n",
       "      <td>200</td>\n",
       "      <td>11.2</td>\n",
       "      <td>0.0508</td>\n",
       "      <td>39.6</td>\n",
       "      <td>0.015048</td>\n",
       "      <td>125.010</td>\n",
       "    </tr>\n",
       "    <tr>\n",
       "      <td>200</td>\n",
       "      <td>12.6</td>\n",
       "      <td>0.1524</td>\n",
       "      <td>71.3</td>\n",
       "      <td>0.048316</td>\n",
       "      <td>128.354</td>\n",
       "    </tr>\n",
       "    <tr>\n",
       "      <td>200</td>\n",
       "      <td>15.4</td>\n",
       "      <td>0.0508</td>\n",
       "      <td>71.3</td>\n",
       "      <td>0.026427</td>\n",
       "      <td>123.595</td>\n",
       "    </tr>\n",
       "    <tr>\n",
       "      <td>200</td>\n",
       "      <td>15.6</td>\n",
       "      <td>0.1016</td>\n",
       "      <td>39.6</td>\n",
       "      <td>0.052849</td>\n",
       "      <td>123.514</td>\n",
       "    </tr>\n",
       "    <tr>\n",
       "      <td>200</td>\n",
       "      <td>9.9</td>\n",
       "      <td>0.1524</td>\n",
       "      <td>31.7</td>\n",
       "      <td>0.025278</td>\n",
       "      <td>127.299</td>\n",
       "    </tr>\n",
       "    <tr>\n",
       "      <td>200</td>\n",
       "      <td>15.4</td>\n",
       "      <td>0.0508</td>\n",
       "      <td>39.6</td>\n",
       "      <td>0.028259</td>\n",
       "      <td>121.783</td>\n",
       "    </tr>\n",
       "    <tr>\n",
       "      <td>200</td>\n",
       "      <td>11.2</td>\n",
       "      <td>0.0508</td>\n",
       "      <td>71.3</td>\n",
       "      <td>0.014072</td>\n",
       "      <td>125.941</td>\n",
       "    </tr>\n",
       "    <tr>\n",
       "      <td>200</td>\n",
       "      <td>15.6</td>\n",
       "      <td>0.1016</td>\n",
       "      <td>71.3</td>\n",
       "      <td>0.043726</td>\n",
       "      <td>130.898</td>\n",
       "    </tr>\n",
       "    <tr>\n",
       "      <td>200</td>\n",
       "      <td>12.6</td>\n",
       "      <td>0.1524</td>\n",
       "      <td>39.6</td>\n",
       "      <td>0.058411</td>\n",
       "      <td>114.750</td>\n",
       "    </tr>\n",
       "    <tr>\n",
       "      <td>200</td>\n",
       "      <td>15.4</td>\n",
       "      <td>0.0508</td>\n",
       "      <td>31.7</td>\n",
       "      <td>0.028985</td>\n",
       "      <td>119.975</td>\n",
       "    </tr>\n",
       "    <tr>\n",
       "      <td>200</td>\n",
       "      <td>19.7</td>\n",
       "      <td>0.0508</td>\n",
       "      <td>71.3</td>\n",
       "      <td>0.034118</td>\n",
       "      <td>118.005</td>\n",
       "    </tr>\n",
       "  </tbody>\n",
       "</table>\n",
       "</div>"
      ],
      "text/plain": [
       "          Angle(deg)  Chord_length(m)  Velocity(ms)  Thickness(m)  \\\n",
       "Freq(Hz)                                                            \n",
       "200              7.3           0.2286          31.7      0.013267   \n",
       "200              9.9           0.1524          39.6      0.023333   \n",
       "200              0.0           0.3048          39.6      0.003101   \n",
       "200              9.5           0.0254          39.6      0.004498   \n",
       "200              8.9           0.1016          39.6      0.012460   \n",
       "200              9.5           0.0254          31.7      0.004614   \n",
       "200             12.3           0.1016          39.6      0.040827   \n",
       "200              7.3           0.2286          39.6      0.012348   \n",
       "200              9.9           0.1524          71.3      0.019300   \n",
       "200             17.4           0.0254          71.3      0.016104   \n",
       "200             12.3           0.1016          55.5      0.036823   \n",
       "200             17.4           0.0254          55.5      0.016571   \n",
       "200              0.0           0.3048          31.7      0.003313   \n",
       "200             17.4           0.0254          39.6      0.017221   \n",
       "200             17.4           0.0254          31.7      0.017663   \n",
       "200             22.2           0.0254          39.6      0.022903   \n",
       "200             12.3           0.1016          71.3      0.033779   \n",
       "200              7.3           0.2286          71.3      0.010440   \n",
       "200              7.3           0.2286          55.5      0.011171   \n",
       "200              8.9           0.1016          71.3      0.010309   \n",
       "200             12.3           0.1016          31.7      0.041876   \n",
       "200             19.7           0.0508          39.6      0.036484   \n",
       "200              9.9           0.1524          55.5      0.020844   \n",
       "200             15.4           0.0508          55.5      0.027193   \n",
       "200             11.2           0.0508          39.6      0.015048   \n",
       "200             12.6           0.1524          71.3      0.048316   \n",
       "200             15.4           0.0508          71.3      0.026427   \n",
       "200             15.6           0.1016          39.6      0.052849   \n",
       "200              9.9           0.1524          31.7      0.025278   \n",
       "200             15.4           0.0508          39.6      0.028259   \n",
       "200             11.2           0.0508          71.3      0.014072   \n",
       "200             15.6           0.1016          71.3      0.043726   \n",
       "200             12.6           0.1524          39.6      0.058411   \n",
       "200             15.4           0.0508          31.7      0.028985   \n",
       "200             19.7           0.0508          71.3      0.034118   \n",
       "\n",
       "          Pressure(dec)  \n",
       "Freq(Hz)                 \n",
       "200             128.679  \n",
       "200             127.315  \n",
       "200             118.129  \n",
       "200             116.074  \n",
       "200             133.420  \n",
       "200             119.146  \n",
       "200             128.545  \n",
       "200             130.989  \n",
       "200             134.319  \n",
       "200             112.506  \n",
       "200             132.304  \n",
       "200             109.951  \n",
       "200             117.195  \n",
       "200             114.044  \n",
       "200             116.146  \n",
       "200             116.066  \n",
       "200             130.588  \n",
       "200             138.758  \n",
       "200             135.234  \n",
       "200             133.503  \n",
       "200             124.987  \n",
       "200             125.974  \n",
       "200             131.955  \n",
       "200             122.940  \n",
       "200             125.010  \n",
       "200             128.354  \n",
       "200             123.595  \n",
       "200             123.514  \n",
       "200             127.299  \n",
       "200             121.783  \n",
       "200             125.941  \n",
       "200             130.898  \n",
       "200             114.750  \n",
       "200             119.975  \n",
       "200             118.005  "
      ]
     },
     "execution_count": 93,
     "metadata": {},
     "output_type": "execute_result"
    }
   ],
   "source": [
    "data.loc[:200,:] # return all columns with Frequency = 200"
   ]
  },
  {
   "cell_type": "markdown",
   "metadata": {
    "colab_type": "text",
    "id": "bYinqA8Z9Qja"
   },
   "source": [
    "### Exercise"
   ]
  },
  {
   "cell_type": "markdown",
   "metadata": {
    "colab_type": "text",
    "id": "uZrP-pWw9Qjl"
   },
   "source": [
    "For all the questions below, write your code and comments to define your approach in a way that another user can understand your choices."
   ]
  },
  {
   "cell_type": "markdown",
   "metadata": {
    "colab_type": "text",
    "id": "bmCoQDTz9Qjy"
   },
   "source": [
    "Question one: \n",
    "With the `Dataframe.ix` function, you can select the columns you would like to return. Select two columns, namely `Velocity(m)` and `Pressure(dec)`. Display the velocity and pressure for frequencies 200 and 800."
   ]
  },
  {
   "cell_type": "code",
   "execution_count": 94,
   "metadata": {
    "scrolled": false
   },
   "outputs": [
    {
     "name": "stderr",
     "output_type": "stream",
     "text": [
      "C:\\Users\\lenovo\\Anaconda3\\lib\\site-packages\\ipykernel_launcher.py:3: FutureWarning: \n",
      ".ix is deprecated. Please use\n",
      ".loc for label based indexing or\n",
      ".iloc for positional indexing\n",
      "\n",
      "See the documentation here:\n",
      "http://pandas.pydata.org/pandas-docs/stable/user_guide/indexing.html#ix-indexer-is-deprecated\n",
      "  This is separate from the ipykernel package so we can avoid doing imports until\n"
     ]
    },
    {
     "data": {
      "text/html": [
       "<div>\n",
       "<style scoped>\n",
       "    .dataframe tbody tr th:only-of-type {\n",
       "        vertical-align: middle;\n",
       "    }\n",
       "\n",
       "    .dataframe tbody tr th {\n",
       "        vertical-align: top;\n",
       "    }\n",
       "\n",
       "    .dataframe thead th {\n",
       "        text-align: right;\n",
       "    }\n",
       "</style>\n",
       "<table border=\"1\" class=\"dataframe\">\n",
       "  <thead>\n",
       "    <tr style=\"text-align: right;\">\n",
       "      <th></th>\n",
       "      <th>Velocity(ms)</th>\n",
       "      <th>Pressure(dec)</th>\n",
       "    </tr>\n",
       "    <tr>\n",
       "      <th>Freq(Hz)</th>\n",
       "      <th></th>\n",
       "      <th></th>\n",
       "    </tr>\n",
       "  </thead>\n",
       "  <tbody>\n",
       "    <tr>\n",
       "      <td>200</td>\n",
       "      <td>31.7</td>\n",
       "      <td>128.679</td>\n",
       "    </tr>\n",
       "    <tr>\n",
       "      <td>200</td>\n",
       "      <td>39.6</td>\n",
       "      <td>127.315</td>\n",
       "    </tr>\n",
       "    <tr>\n",
       "      <td>200</td>\n",
       "      <td>39.6</td>\n",
       "      <td>118.129</td>\n",
       "    </tr>\n",
       "    <tr>\n",
       "      <td>200</td>\n",
       "      <td>39.6</td>\n",
       "      <td>116.074</td>\n",
       "    </tr>\n",
       "    <tr>\n",
       "      <td>200</td>\n",
       "      <td>39.6</td>\n",
       "      <td>133.420</td>\n",
       "    </tr>\n",
       "    <tr>\n",
       "      <td>...</td>\n",
       "      <td>...</td>\n",
       "      <td>...</td>\n",
       "    </tr>\n",
       "    <tr>\n",
       "      <td>800</td>\n",
       "      <td>31.7</td>\n",
       "      <td>129.235</td>\n",
       "    </tr>\n",
       "    <tr>\n",
       "      <td>800</td>\n",
       "      <td>39.6</td>\n",
       "      <td>129.099</td>\n",
       "    </tr>\n",
       "    <tr>\n",
       "      <td>800</td>\n",
       "      <td>55.5</td>\n",
       "      <td>131.864</td>\n",
       "    </tr>\n",
       "    <tr>\n",
       "      <td>800</td>\n",
       "      <td>71.3</td>\n",
       "      <td>130.688</td>\n",
       "    </tr>\n",
       "    <tr>\n",
       "      <td>800</td>\n",
       "      <td>71.3</td>\n",
       "      <td>129.494</td>\n",
       "    </tr>\n",
       "  </tbody>\n",
       "</table>\n",
       "<p>132 rows × 2 columns</p>\n",
       "</div>"
      ],
      "text/plain": [
       "          Velocity(ms)  Pressure(dec)\n",
       "Freq(Hz)                             \n",
       "200               31.7        128.679\n",
       "200               39.6        127.315\n",
       "200               39.6        118.129\n",
       "200               39.6        116.074\n",
       "200               39.6        133.420\n",
       "...                ...            ...\n",
       "800               31.7        129.235\n",
       "800               39.6        129.099\n",
       "800               55.5        131.864\n",
       "800               71.3        130.688\n",
       "800               71.3        129.494\n",
       "\n",
       "[132 rows x 2 columns]"
      ]
     },
     "execution_count": 94,
     "metadata": {},
     "output_type": "execute_result"
    }
   ],
   "source": [
    "#data...\n",
    "#data.ix[rows,cols]\n",
    "data.ix[[200,800],[2,4]]\n",
    "#data.ix[:,\"Velocity(ms)\",\"Pressure(dec)\"]]"
   ]
  },
  {
   "cell_type": "markdown",
   "metadata": {
    "colab_type": "text",
    "id": "x6sdVw639Qkk"
   },
   "source": [
    "Question two:Using Dataframe.ix, select the first 5 entries of the dataframe for the Angle (deg) column. Use comments to explain how it works (or does not if appropriate)"
   ]
  },
  {
   "cell_type": "code",
   "execution_count": 107,
   "metadata": {
    "colab": {},
    "colab_type": "code",
    "id": "w_xK2iTC9Qkt",
    "scrolled": false
   },
   "outputs": [
    {
     "name": "stderr",
     "output_type": "stream",
     "text": [
      "C:\\Users\\lenovo\\Anaconda3\\lib\\site-packages\\ipykernel_launcher.py:3: FutureWarning: \n",
      ".ix is deprecated. Please use\n",
      ".loc for label based indexing or\n",
      ".iloc for positional indexing\n",
      "\n",
      "See the documentation here:\n",
      "http://pandas.pydata.org/pandas-docs/stable/user_guide/indexing.html#ix-indexer-is-deprecated\n",
      "  This is separate from the ipykernel package so we can avoid doing imports until\n"
     ]
    },
    {
     "data": {
      "text/html": [
       "<div>\n",
       "<style scoped>\n",
       "    .dataframe tbody tr th:only-of-type {\n",
       "        vertical-align: middle;\n",
       "    }\n",
       "\n",
       "    .dataframe tbody tr th {\n",
       "        vertical-align: top;\n",
       "    }\n",
       "\n",
       "    .dataframe thead th {\n",
       "        text-align: right;\n",
       "    }\n",
       "</style>\n",
       "<table border=\"1\" class=\"dataframe\">\n",
       "  <thead>\n",
       "    <tr style=\"text-align: right;\">\n",
       "      <th></th>\n",
       "      <th>Angle(deg)</th>\n",
       "    </tr>\n",
       "    <tr>\n",
       "      <th>Freq(Hz)</th>\n",
       "      <th></th>\n",
       "    </tr>\n",
       "  </thead>\n",
       "  <tbody>\n",
       "    <tr>\n",
       "      <td>200</td>\n",
       "      <td>7.3</td>\n",
       "    </tr>\n",
       "    <tr>\n",
       "      <td>200</td>\n",
       "      <td>9.9</td>\n",
       "    </tr>\n",
       "    <tr>\n",
       "      <td>200</td>\n",
       "      <td>0.0</td>\n",
       "    </tr>\n",
       "    <tr>\n",
       "      <td>200</td>\n",
       "      <td>9.5</td>\n",
       "    </tr>\n",
       "    <tr>\n",
       "      <td>200</td>\n",
       "      <td>8.9</td>\n",
       "    </tr>\n",
       "    <tr>\n",
       "      <td>200</td>\n",
       "      <td>9.5</td>\n",
       "    </tr>\n",
       "    <tr>\n",
       "      <td>200</td>\n",
       "      <td>12.3</td>\n",
       "    </tr>\n",
       "    <tr>\n",
       "      <td>200</td>\n",
       "      <td>7.3</td>\n",
       "    </tr>\n",
       "    <tr>\n",
       "      <td>200</td>\n",
       "      <td>9.9</td>\n",
       "    </tr>\n",
       "    <tr>\n",
       "      <td>200</td>\n",
       "      <td>17.4</td>\n",
       "    </tr>\n",
       "    <tr>\n",
       "      <td>200</td>\n",
       "      <td>12.3</td>\n",
       "    </tr>\n",
       "    <tr>\n",
       "      <td>200</td>\n",
       "      <td>17.4</td>\n",
       "    </tr>\n",
       "    <tr>\n",
       "      <td>200</td>\n",
       "      <td>0.0</td>\n",
       "    </tr>\n",
       "    <tr>\n",
       "      <td>200</td>\n",
       "      <td>17.4</td>\n",
       "    </tr>\n",
       "    <tr>\n",
       "      <td>200</td>\n",
       "      <td>17.4</td>\n",
       "    </tr>\n",
       "    <tr>\n",
       "      <td>200</td>\n",
       "      <td>22.2</td>\n",
       "    </tr>\n",
       "    <tr>\n",
       "      <td>200</td>\n",
       "      <td>12.3</td>\n",
       "    </tr>\n",
       "    <tr>\n",
       "      <td>200</td>\n",
       "      <td>7.3</td>\n",
       "    </tr>\n",
       "    <tr>\n",
       "      <td>200</td>\n",
       "      <td>7.3</td>\n",
       "    </tr>\n",
       "    <tr>\n",
       "      <td>200</td>\n",
       "      <td>8.9</td>\n",
       "    </tr>\n",
       "    <tr>\n",
       "      <td>200</td>\n",
       "      <td>12.3</td>\n",
       "    </tr>\n",
       "    <tr>\n",
       "      <td>200</td>\n",
       "      <td>19.7</td>\n",
       "    </tr>\n",
       "    <tr>\n",
       "      <td>200</td>\n",
       "      <td>9.9</td>\n",
       "    </tr>\n",
       "    <tr>\n",
       "      <td>200</td>\n",
       "      <td>15.4</td>\n",
       "    </tr>\n",
       "    <tr>\n",
       "      <td>200</td>\n",
       "      <td>11.2</td>\n",
       "    </tr>\n",
       "    <tr>\n",
       "      <td>200</td>\n",
       "      <td>12.6</td>\n",
       "    </tr>\n",
       "    <tr>\n",
       "      <td>200</td>\n",
       "      <td>15.4</td>\n",
       "    </tr>\n",
       "    <tr>\n",
       "      <td>200</td>\n",
       "      <td>15.6</td>\n",
       "    </tr>\n",
       "    <tr>\n",
       "      <td>200</td>\n",
       "      <td>9.9</td>\n",
       "    </tr>\n",
       "    <tr>\n",
       "      <td>200</td>\n",
       "      <td>15.4</td>\n",
       "    </tr>\n",
       "    <tr>\n",
       "      <td>200</td>\n",
       "      <td>11.2</td>\n",
       "    </tr>\n",
       "    <tr>\n",
       "      <td>200</td>\n",
       "      <td>15.6</td>\n",
       "    </tr>\n",
       "    <tr>\n",
       "      <td>200</td>\n",
       "      <td>12.6</td>\n",
       "    </tr>\n",
       "    <tr>\n",
       "      <td>200</td>\n",
       "      <td>15.4</td>\n",
       "    </tr>\n",
       "    <tr>\n",
       "      <td>200</td>\n",
       "      <td>19.7</td>\n",
       "    </tr>\n",
       "  </tbody>\n",
       "</table>\n",
       "</div>"
      ],
      "text/plain": [
       "          Angle(deg)\n",
       "Freq(Hz)            \n",
       "200              7.3\n",
       "200              9.9\n",
       "200              0.0\n",
       "200              9.5\n",
       "200              8.9\n",
       "200              9.5\n",
       "200             12.3\n",
       "200              7.3\n",
       "200              9.9\n",
       "200             17.4\n",
       "200             12.3\n",
       "200             17.4\n",
       "200              0.0\n",
       "200             17.4\n",
       "200             17.4\n",
       "200             22.2\n",
       "200             12.3\n",
       "200              7.3\n",
       "200              7.3\n",
       "200              8.9\n",
       "200             12.3\n",
       "200             19.7\n",
       "200              9.9\n",
       "200             15.4\n",
       "200             11.2\n",
       "200             12.6\n",
       "200             15.4\n",
       "200             15.6\n",
       "200              9.9\n",
       "200             15.4\n",
       "200             11.2\n",
       "200             15.6\n",
       "200             12.6\n",
       "200             15.4\n",
       "200             19.7"
      ]
     },
     "execution_count": 107,
     "metadata": {},
     "output_type": "execute_result"
    }
   ],
   "source": [
    "#data...\n",
    "#data.ix[rows,cols]\n",
    "data.ix[[200],[0]]\n",
    "#data.ix[1:5,\"Angle(deg)\"]"
   ]
  },
  {
   "cell_type": "markdown",
   "metadata": {
    "colab_type": "text",
    "id": "Kydpk9oe9Qk3"
   },
   "source": [
    "Question three: Select the 3rd column of the entries between the 100th to the 250th  inclusive without using the column label. Comment your code to indicate why you chose each command used."
   ]
  },
  {
   "cell_type": "code",
   "execution_count": 101,
   "metadata": {
    "colab": {},
    "colab_type": "code",
    "id": "WBdW8u9S9Qk6"
   },
   "outputs": [
    {
     "name": "stderr",
     "output_type": "stream",
     "text": [
      "C:\\Users\\lenovo\\Anaconda3\\lib\\site-packages\\ipykernel_launcher.py:3: FutureWarning: \n",
      ".ix is deprecated. Please use\n",
      ".loc for label based indexing or\n",
      ".iloc for positional indexing\n",
      "\n",
      "See the documentation here:\n",
      "http://pandas.pydata.org/pandas-docs/stable/user_guide/indexing.html#ix-indexer-is-deprecated\n",
      "  This is separate from the ipykernel package so we can avoid doing imports until\n"
     ]
    },
    {
     "data": {
      "text/html": [
       "<div>\n",
       "<style scoped>\n",
       "    .dataframe tbody tr th:only-of-type {\n",
       "        vertical-align: middle;\n",
       "    }\n",
       "\n",
       "    .dataframe tbody tr th {\n",
       "        vertical-align: top;\n",
       "    }\n",
       "\n",
       "    .dataframe thead th {\n",
       "        text-align: right;\n",
       "    }\n",
       "</style>\n",
       "<table border=\"1\" class=\"dataframe\">\n",
       "  <thead>\n",
       "    <tr style=\"text-align: right;\">\n",
       "      <th></th>\n",
       "      <th>Velocity(ms)</th>\n",
       "    </tr>\n",
       "    <tr>\n",
       "      <th>Freq(Hz)</th>\n",
       "      <th></th>\n",
       "    </tr>\n",
       "  </thead>\n",
       "  <tbody>\n",
       "    <tr>\n",
       "      <td>1000</td>\n",
       "      <td>31.7</td>\n",
       "    </tr>\n",
       "    <tr>\n",
       "      <td>1000</td>\n",
       "      <td>71.3</td>\n",
       "    </tr>\n",
       "    <tr>\n",
       "      <td>1000</td>\n",
       "      <td>31.7</td>\n",
       "    </tr>\n",
       "    <tr>\n",
       "      <td>1000</td>\n",
       "      <td>31.7</td>\n",
       "    </tr>\n",
       "    <tr>\n",
       "      <td>1000</td>\n",
       "      <td>39.6</td>\n",
       "    </tr>\n",
       "    <tr>\n",
       "      <td>...</td>\n",
       "      <td>...</td>\n",
       "    </tr>\n",
       "    <tr>\n",
       "      <td>10000</td>\n",
       "      <td>31.7</td>\n",
       "    </tr>\n",
       "    <tr>\n",
       "      <td>10000</td>\n",
       "      <td>71.3</td>\n",
       "    </tr>\n",
       "    <tr>\n",
       "      <td>10000</td>\n",
       "      <td>39.6</td>\n",
       "    </tr>\n",
       "    <tr>\n",
       "      <td>10000</td>\n",
       "      <td>71.3</td>\n",
       "    </tr>\n",
       "    <tr>\n",
       "      <td>10000</td>\n",
       "      <td>39.6</td>\n",
       "    </tr>\n",
       "  </tbody>\n",
       "</table>\n",
       "<p>141 rows × 1 columns</p>\n",
       "</div>"
      ],
      "text/plain": [
       "          Velocity(ms)\n",
       "Freq(Hz)              \n",
       "1000              31.7\n",
       "1000              71.3\n",
       "1000              31.7\n",
       "1000              31.7\n",
       "1000              39.6\n",
       "...                ...\n",
       "10000             31.7\n",
       "10000             71.3\n",
       "10000             39.6\n",
       "10000             71.3\n",
       "10000             39.6\n",
       "\n",
       "[141 rows x 1 columns]"
      ]
     },
     "execution_count": 101,
     "metadata": {},
     "output_type": "execute_result"
    }
   ],
   "source": [
    "# your input\n",
    "#index into the dataframe and return all entries with frequencies between 1000 and 10000Hz, for the Velocity column \n",
    "data.ix[[1000,10000],[2]]"
   ]
  }
 ],
 "metadata": {
  "colab": {
   "name": "dav_01_data_wrangling_with_pandas.ipynb",
   "provenance": [],
   "version": "0.3.2"
  },
  "kernelspec": {
   "display_name": "Python 3",
   "language": "python",
   "name": "python3"
  },
  "language_info": {
   "codemirror_mode": {
    "name": "ipython",
    "version": 3
   },
   "file_extension": ".py",
   "mimetype": "text/x-python",
   "name": "python",
   "nbconvert_exporter": "python",
   "pygments_lexer": "ipython3",
   "version": "3.7.4"
  }
 },
 "nbformat": 4,
 "nbformat_minor": 1
}
